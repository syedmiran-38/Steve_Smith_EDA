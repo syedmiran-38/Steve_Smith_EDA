{
  "nbformat": 4,
  "nbformat_minor": 0,
  "metadata": {
    "colab": {
      "provenance": [],
      "collapsed_sections": [
        "8krXSLOE0tUQ",
        "cvfez2DNaddy",
        "kf_g70ESOuuN",
        "pgO7tnKGR6DA",
        "iLTIWMMcVUo0"
      ]
    },
    "kernelspec": {
      "name": "python3",
      "display_name": "Python 3"
    },
    "language_info": {
      "name": "python"
    }
  },
  "cells": [
    {
      "cell_type": "markdown",
      "source": [
        "# **STEVE SMITH EDA**"
      ],
      "metadata": {
        "id": "POf2IzKQWRkI"
      }
    },
    {
      "cell_type": "markdown",
      "source": [
        "The best Test batsman at present, Steven Smith's career redemption is a story for the ages. Having made his name initially as a potential leg-spinner who could bat a bit, there was immense criticism, even among those in Australia over the quality of his selection during his early days in international cricket. However, they were made to eat humble pie as the enigmatic man from New South Wales turned things around in sensational fashion to feature among the best batsmen in the world. "
      ],
      "metadata": {
        "id": "SX4-Cjenk1G5"
      }
    },
    {
      "cell_type": "markdown",
      "source": [
        "**Importing necessary libraries**"
      ],
      "metadata": {
        "id": "IZ1Fm9CeWW9j"
      }
    },
    {
      "cell_type": "code",
      "execution_count": 13,
      "metadata": {
        "id": "Tv_vq1CU0Utq"
      },
      "outputs": [],
      "source": [
        "import numpy as np\n",
        "import pandas as pd\n",
        "import matplotlib.pyplot as plt\n",
        "import seaborn as sns\n",
        "sns.set_theme(style = 'whitegrid')"
      ]
    },
    {
      "cell_type": "markdown",
      "source": [
        "# **Over All Batting Stats**"
      ],
      "metadata": {
        "id": "8krXSLOE0tUQ"
      }
    },
    {
      "cell_type": "code",
      "source": [
        "ob = pd.read_excel('/content/smith overall batting.xlsx')\n",
        "ob.head(10)"
      ],
      "metadata": {
        "colab": {
          "base_uri": "https://localhost:8080/",
          "height": 235
        },
        "id": "-S75jt8D0q-M",
        "outputId": "2ad094e2-b45e-4257-af41-37562fdb5597"
      },
      "execution_count": 3,
      "outputs": [
        {
          "output_type": "execute_result",
          "data": {
            "text/plain": [
              "   Format  Mat  Inns  NO   Runs   HS    Ave     BF      SR  100s  50s    4s  \\\n",
              "0    Test   92   162  20   8647  239  60.89  15901   54.38    30   37   942   \n",
              "1     ODI  139   124  15   4917  164  45.11   5610   87.64    12   29   431   \n",
              "2    T20I   63    51  11   1008   90  25.20    805  125.21     0    4    85   \n",
              "3      FC  151   261  30  13147  239  56.91  23596   55.71    46   57  1500   \n",
              "4  List A  188   171  27   6934  164  48.15   7844   88.39    15   43   586   \n",
              "5     T20  235   206  44   4804  101  29.65   3838  125.16     1   21   425   \n",
              "\n",
              "    6s  Column1  Column2  \n",
              "0   49      NaN      NaN  \n",
              "1   47      NaN      NaN  \n",
              "2   24      NaN      NaN  \n",
              "3   96      NaN      NaN  \n",
              "4   96      NaN      NaN  \n",
              "5  108      NaN      NaN  "
            ],
            "text/html": [
              "\n",
              "  <div id=\"df-21b1d822-6581-4461-bc18-b3bbfd58d675\">\n",
              "    <div class=\"colab-df-container\">\n",
              "      <div>\n",
              "<style scoped>\n",
              "    .dataframe tbody tr th:only-of-type {\n",
              "        vertical-align: middle;\n",
              "    }\n",
              "\n",
              "    .dataframe tbody tr th {\n",
              "        vertical-align: top;\n",
              "    }\n",
              "\n",
              "    .dataframe thead th {\n",
              "        text-align: right;\n",
              "    }\n",
              "</style>\n",
              "<table border=\"1\" class=\"dataframe\">\n",
              "  <thead>\n",
              "    <tr style=\"text-align: right;\">\n",
              "      <th></th>\n",
              "      <th>Format</th>\n",
              "      <th>Mat</th>\n",
              "      <th>Inns</th>\n",
              "      <th>NO</th>\n",
              "      <th>Runs</th>\n",
              "      <th>HS</th>\n",
              "      <th>Ave</th>\n",
              "      <th>BF</th>\n",
              "      <th>SR</th>\n",
              "      <th>100s</th>\n",
              "      <th>50s</th>\n",
              "      <th>4s</th>\n",
              "      <th>6s</th>\n",
              "      <th>Column1</th>\n",
              "      <th>Column2</th>\n",
              "    </tr>\n",
              "  </thead>\n",
              "  <tbody>\n",
              "    <tr>\n",
              "      <th>0</th>\n",
              "      <td>Test</td>\n",
              "      <td>92</td>\n",
              "      <td>162</td>\n",
              "      <td>20</td>\n",
              "      <td>8647</td>\n",
              "      <td>239</td>\n",
              "      <td>60.89</td>\n",
              "      <td>15901</td>\n",
              "      <td>54.38</td>\n",
              "      <td>30</td>\n",
              "      <td>37</td>\n",
              "      <td>942</td>\n",
              "      <td>49</td>\n",
              "      <td>NaN</td>\n",
              "      <td>NaN</td>\n",
              "    </tr>\n",
              "    <tr>\n",
              "      <th>1</th>\n",
              "      <td>ODI</td>\n",
              "      <td>139</td>\n",
              "      <td>124</td>\n",
              "      <td>15</td>\n",
              "      <td>4917</td>\n",
              "      <td>164</td>\n",
              "      <td>45.11</td>\n",
              "      <td>5610</td>\n",
              "      <td>87.64</td>\n",
              "      <td>12</td>\n",
              "      <td>29</td>\n",
              "      <td>431</td>\n",
              "      <td>47</td>\n",
              "      <td>NaN</td>\n",
              "      <td>NaN</td>\n",
              "    </tr>\n",
              "    <tr>\n",
              "      <th>2</th>\n",
              "      <td>T20I</td>\n",
              "      <td>63</td>\n",
              "      <td>51</td>\n",
              "      <td>11</td>\n",
              "      <td>1008</td>\n",
              "      <td>90</td>\n",
              "      <td>25.20</td>\n",
              "      <td>805</td>\n",
              "      <td>125.21</td>\n",
              "      <td>0</td>\n",
              "      <td>4</td>\n",
              "      <td>85</td>\n",
              "      <td>24</td>\n",
              "      <td>NaN</td>\n",
              "      <td>NaN</td>\n",
              "    </tr>\n",
              "    <tr>\n",
              "      <th>3</th>\n",
              "      <td>FC</td>\n",
              "      <td>151</td>\n",
              "      <td>261</td>\n",
              "      <td>30</td>\n",
              "      <td>13147</td>\n",
              "      <td>239</td>\n",
              "      <td>56.91</td>\n",
              "      <td>23596</td>\n",
              "      <td>55.71</td>\n",
              "      <td>46</td>\n",
              "      <td>57</td>\n",
              "      <td>1500</td>\n",
              "      <td>96</td>\n",
              "      <td>NaN</td>\n",
              "      <td>NaN</td>\n",
              "    </tr>\n",
              "    <tr>\n",
              "      <th>4</th>\n",
              "      <td>List A</td>\n",
              "      <td>188</td>\n",
              "      <td>171</td>\n",
              "      <td>27</td>\n",
              "      <td>6934</td>\n",
              "      <td>164</td>\n",
              "      <td>48.15</td>\n",
              "      <td>7844</td>\n",
              "      <td>88.39</td>\n",
              "      <td>15</td>\n",
              "      <td>43</td>\n",
              "      <td>586</td>\n",
              "      <td>96</td>\n",
              "      <td>NaN</td>\n",
              "      <td>NaN</td>\n",
              "    </tr>\n",
              "    <tr>\n",
              "      <th>5</th>\n",
              "      <td>T20</td>\n",
              "      <td>235</td>\n",
              "      <td>206</td>\n",
              "      <td>44</td>\n",
              "      <td>4804</td>\n",
              "      <td>101</td>\n",
              "      <td>29.65</td>\n",
              "      <td>3838</td>\n",
              "      <td>125.16</td>\n",
              "      <td>1</td>\n",
              "      <td>21</td>\n",
              "      <td>425</td>\n",
              "      <td>108</td>\n",
              "      <td>NaN</td>\n",
              "      <td>NaN</td>\n",
              "    </tr>\n",
              "  </tbody>\n",
              "</table>\n",
              "</div>\n",
              "      <button class=\"colab-df-convert\" onclick=\"convertToInteractive('df-21b1d822-6581-4461-bc18-b3bbfd58d675')\"\n",
              "              title=\"Convert this dataframe to an interactive table.\"\n",
              "              style=\"display:none;\">\n",
              "        \n",
              "  <svg xmlns=\"http://www.w3.org/2000/svg\" height=\"24px\"viewBox=\"0 0 24 24\"\n",
              "       width=\"24px\">\n",
              "    <path d=\"M0 0h24v24H0V0z\" fill=\"none\"/>\n",
              "    <path d=\"M18.56 5.44l.94 2.06.94-2.06 2.06-.94-2.06-.94-.94-2.06-.94 2.06-2.06.94zm-11 1L8.5 8.5l.94-2.06 2.06-.94-2.06-.94L8.5 2.5l-.94 2.06-2.06.94zm10 10l.94 2.06.94-2.06 2.06-.94-2.06-.94-.94-2.06-.94 2.06-2.06.94z\"/><path d=\"M17.41 7.96l-1.37-1.37c-.4-.4-.92-.59-1.43-.59-.52 0-1.04.2-1.43.59L10.3 9.45l-7.72 7.72c-.78.78-.78 2.05 0 2.83L4 21.41c.39.39.9.59 1.41.59.51 0 1.02-.2 1.41-.59l7.78-7.78 2.81-2.81c.8-.78.8-2.07 0-2.86zM5.41 20L4 18.59l7.72-7.72 1.47 1.35L5.41 20z\"/>\n",
              "  </svg>\n",
              "      </button>\n",
              "      \n",
              "  <style>\n",
              "    .colab-df-container {\n",
              "      display:flex;\n",
              "      flex-wrap:wrap;\n",
              "      gap: 12px;\n",
              "    }\n",
              "\n",
              "    .colab-df-convert {\n",
              "      background-color: #E8F0FE;\n",
              "      border: none;\n",
              "      border-radius: 50%;\n",
              "      cursor: pointer;\n",
              "      display: none;\n",
              "      fill: #1967D2;\n",
              "      height: 32px;\n",
              "      padding: 0 0 0 0;\n",
              "      width: 32px;\n",
              "    }\n",
              "\n",
              "    .colab-df-convert:hover {\n",
              "      background-color: #E2EBFA;\n",
              "      box-shadow: 0px 1px 2px rgba(60, 64, 67, 0.3), 0px 1px 3px 1px rgba(60, 64, 67, 0.15);\n",
              "      fill: #174EA6;\n",
              "    }\n",
              "\n",
              "    [theme=dark] .colab-df-convert {\n",
              "      background-color: #3B4455;\n",
              "      fill: #D2E3FC;\n",
              "    }\n",
              "\n",
              "    [theme=dark] .colab-df-convert:hover {\n",
              "      background-color: #434B5C;\n",
              "      box-shadow: 0px 1px 3px 1px rgba(0, 0, 0, 0.15);\n",
              "      filter: drop-shadow(0px 1px 2px rgba(0, 0, 0, 0.3));\n",
              "      fill: #FFFFFF;\n",
              "    }\n",
              "  </style>\n",
              "\n",
              "      <script>\n",
              "        const buttonEl =\n",
              "          document.querySelector('#df-21b1d822-6581-4461-bc18-b3bbfd58d675 button.colab-df-convert');\n",
              "        buttonEl.style.display =\n",
              "          google.colab.kernel.accessAllowed ? 'block' : 'none';\n",
              "\n",
              "        async function convertToInteractive(key) {\n",
              "          const element = document.querySelector('#df-21b1d822-6581-4461-bc18-b3bbfd58d675');\n",
              "          const dataTable =\n",
              "            await google.colab.kernel.invokeFunction('convertToInteractive',\n",
              "                                                     [key], {});\n",
              "          if (!dataTable) return;\n",
              "\n",
              "          const docLinkHtml = 'Like what you see? Visit the ' +\n",
              "            '<a target=\"_blank\" href=https://colab.research.google.com/notebooks/data_table.ipynb>data table notebook</a>'\n",
              "            + ' to learn more about interactive tables.';\n",
              "          element.innerHTML = '';\n",
              "          dataTable['output_type'] = 'display_data';\n",
              "          await google.colab.output.renderOutput(dataTable, element);\n",
              "          const docLink = document.createElement('div');\n",
              "          docLink.innerHTML = docLinkHtml;\n",
              "          element.appendChild(docLink);\n",
              "        }\n",
              "      </script>\n",
              "    </div>\n",
              "  </div>\n",
              "  "
            ]
          },
          "metadata": {},
          "execution_count": 3
        }
      ]
    },
    {
      "cell_type": "code",
      "source": [
        "ob.columns"
      ],
      "metadata": {
        "colab": {
          "base_uri": "https://localhost:8080/"
        },
        "id": "K6p6M1wD05aP",
        "outputId": "c4f23389-e8c2-4706-d684-a2129227d2ae"
      },
      "execution_count": 4,
      "outputs": [
        {
          "output_type": "execute_result",
          "data": {
            "text/plain": [
              "Index(['Format', 'Mat', 'Inns', 'NO', 'Runs', 'HS', 'Ave', 'BF', 'SR', '100s',\n",
              "       '50s', '4s', '6s', 'Column1', 'Column2'],\n",
              "      dtype='object')"
            ]
          },
          "metadata": {},
          "execution_count": 4
        }
      ]
    },
    {
      "cell_type": "code",
      "source": [
        "ob = ob.drop(['Column1','Column2' ], axis = 1)\n",
        "ob.head(6)"
      ],
      "metadata": {
        "colab": {
          "base_uri": "https://localhost:8080/",
          "height": 235
        },
        "id": "iY-9YriM1If6",
        "outputId": "9083c55f-2686-4191-fbc2-fbff84c9e815"
      },
      "execution_count": 5,
      "outputs": [
        {
          "output_type": "execute_result",
          "data": {
            "text/plain": [
              "   Format  Mat  Inns  NO   Runs   HS    Ave     BF      SR  100s  50s    4s  \\\n",
              "0    Test   92   162  20   8647  239  60.89  15901   54.38    30   37   942   \n",
              "1     ODI  139   124  15   4917  164  45.11   5610   87.64    12   29   431   \n",
              "2    T20I   63    51  11   1008   90  25.20    805  125.21     0    4    85   \n",
              "3      FC  151   261  30  13147  239  56.91  23596   55.71    46   57  1500   \n",
              "4  List A  188   171  27   6934  164  48.15   7844   88.39    15   43   586   \n",
              "5     T20  235   206  44   4804  101  29.65   3838  125.16     1   21   425   \n",
              "\n",
              "    6s  \n",
              "0   49  \n",
              "1   47  \n",
              "2   24  \n",
              "3   96  \n",
              "4   96  \n",
              "5  108  "
            ],
            "text/html": [
              "\n",
              "  <div id=\"df-f8da06f9-154c-4b4c-9704-72a7aa1c5bca\">\n",
              "    <div class=\"colab-df-container\">\n",
              "      <div>\n",
              "<style scoped>\n",
              "    .dataframe tbody tr th:only-of-type {\n",
              "        vertical-align: middle;\n",
              "    }\n",
              "\n",
              "    .dataframe tbody tr th {\n",
              "        vertical-align: top;\n",
              "    }\n",
              "\n",
              "    .dataframe thead th {\n",
              "        text-align: right;\n",
              "    }\n",
              "</style>\n",
              "<table border=\"1\" class=\"dataframe\">\n",
              "  <thead>\n",
              "    <tr style=\"text-align: right;\">\n",
              "      <th></th>\n",
              "      <th>Format</th>\n",
              "      <th>Mat</th>\n",
              "      <th>Inns</th>\n",
              "      <th>NO</th>\n",
              "      <th>Runs</th>\n",
              "      <th>HS</th>\n",
              "      <th>Ave</th>\n",
              "      <th>BF</th>\n",
              "      <th>SR</th>\n",
              "      <th>100s</th>\n",
              "      <th>50s</th>\n",
              "      <th>4s</th>\n",
              "      <th>6s</th>\n",
              "    </tr>\n",
              "  </thead>\n",
              "  <tbody>\n",
              "    <tr>\n",
              "      <th>0</th>\n",
              "      <td>Test</td>\n",
              "      <td>92</td>\n",
              "      <td>162</td>\n",
              "      <td>20</td>\n",
              "      <td>8647</td>\n",
              "      <td>239</td>\n",
              "      <td>60.89</td>\n",
              "      <td>15901</td>\n",
              "      <td>54.38</td>\n",
              "      <td>30</td>\n",
              "      <td>37</td>\n",
              "      <td>942</td>\n",
              "      <td>49</td>\n",
              "    </tr>\n",
              "    <tr>\n",
              "      <th>1</th>\n",
              "      <td>ODI</td>\n",
              "      <td>139</td>\n",
              "      <td>124</td>\n",
              "      <td>15</td>\n",
              "      <td>4917</td>\n",
              "      <td>164</td>\n",
              "      <td>45.11</td>\n",
              "      <td>5610</td>\n",
              "      <td>87.64</td>\n",
              "      <td>12</td>\n",
              "      <td>29</td>\n",
              "      <td>431</td>\n",
              "      <td>47</td>\n",
              "    </tr>\n",
              "    <tr>\n",
              "      <th>2</th>\n",
              "      <td>T20I</td>\n",
              "      <td>63</td>\n",
              "      <td>51</td>\n",
              "      <td>11</td>\n",
              "      <td>1008</td>\n",
              "      <td>90</td>\n",
              "      <td>25.20</td>\n",
              "      <td>805</td>\n",
              "      <td>125.21</td>\n",
              "      <td>0</td>\n",
              "      <td>4</td>\n",
              "      <td>85</td>\n",
              "      <td>24</td>\n",
              "    </tr>\n",
              "    <tr>\n",
              "      <th>3</th>\n",
              "      <td>FC</td>\n",
              "      <td>151</td>\n",
              "      <td>261</td>\n",
              "      <td>30</td>\n",
              "      <td>13147</td>\n",
              "      <td>239</td>\n",
              "      <td>56.91</td>\n",
              "      <td>23596</td>\n",
              "      <td>55.71</td>\n",
              "      <td>46</td>\n",
              "      <td>57</td>\n",
              "      <td>1500</td>\n",
              "      <td>96</td>\n",
              "    </tr>\n",
              "    <tr>\n",
              "      <th>4</th>\n",
              "      <td>List A</td>\n",
              "      <td>188</td>\n",
              "      <td>171</td>\n",
              "      <td>27</td>\n",
              "      <td>6934</td>\n",
              "      <td>164</td>\n",
              "      <td>48.15</td>\n",
              "      <td>7844</td>\n",
              "      <td>88.39</td>\n",
              "      <td>15</td>\n",
              "      <td>43</td>\n",
              "      <td>586</td>\n",
              "      <td>96</td>\n",
              "    </tr>\n",
              "    <tr>\n",
              "      <th>5</th>\n",
              "      <td>T20</td>\n",
              "      <td>235</td>\n",
              "      <td>206</td>\n",
              "      <td>44</td>\n",
              "      <td>4804</td>\n",
              "      <td>101</td>\n",
              "      <td>29.65</td>\n",
              "      <td>3838</td>\n",
              "      <td>125.16</td>\n",
              "      <td>1</td>\n",
              "      <td>21</td>\n",
              "      <td>425</td>\n",
              "      <td>108</td>\n",
              "    </tr>\n",
              "  </tbody>\n",
              "</table>\n",
              "</div>\n",
              "      <button class=\"colab-df-convert\" onclick=\"convertToInteractive('df-f8da06f9-154c-4b4c-9704-72a7aa1c5bca')\"\n",
              "              title=\"Convert this dataframe to an interactive table.\"\n",
              "              style=\"display:none;\">\n",
              "        \n",
              "  <svg xmlns=\"http://www.w3.org/2000/svg\" height=\"24px\"viewBox=\"0 0 24 24\"\n",
              "       width=\"24px\">\n",
              "    <path d=\"M0 0h24v24H0V0z\" fill=\"none\"/>\n",
              "    <path d=\"M18.56 5.44l.94 2.06.94-2.06 2.06-.94-2.06-.94-.94-2.06-.94 2.06-2.06.94zm-11 1L8.5 8.5l.94-2.06 2.06-.94-2.06-.94L8.5 2.5l-.94 2.06-2.06.94zm10 10l.94 2.06.94-2.06 2.06-.94-2.06-.94-.94-2.06-.94 2.06-2.06.94z\"/><path d=\"M17.41 7.96l-1.37-1.37c-.4-.4-.92-.59-1.43-.59-.52 0-1.04.2-1.43.59L10.3 9.45l-7.72 7.72c-.78.78-.78 2.05 0 2.83L4 21.41c.39.39.9.59 1.41.59.51 0 1.02-.2 1.41-.59l7.78-7.78 2.81-2.81c.8-.78.8-2.07 0-2.86zM5.41 20L4 18.59l7.72-7.72 1.47 1.35L5.41 20z\"/>\n",
              "  </svg>\n",
              "      </button>\n",
              "      \n",
              "  <style>\n",
              "    .colab-df-container {\n",
              "      display:flex;\n",
              "      flex-wrap:wrap;\n",
              "      gap: 12px;\n",
              "    }\n",
              "\n",
              "    .colab-df-convert {\n",
              "      background-color: #E8F0FE;\n",
              "      border: none;\n",
              "      border-radius: 50%;\n",
              "      cursor: pointer;\n",
              "      display: none;\n",
              "      fill: #1967D2;\n",
              "      height: 32px;\n",
              "      padding: 0 0 0 0;\n",
              "      width: 32px;\n",
              "    }\n",
              "\n",
              "    .colab-df-convert:hover {\n",
              "      background-color: #E2EBFA;\n",
              "      box-shadow: 0px 1px 2px rgba(60, 64, 67, 0.3), 0px 1px 3px 1px rgba(60, 64, 67, 0.15);\n",
              "      fill: #174EA6;\n",
              "    }\n",
              "\n",
              "    [theme=dark] .colab-df-convert {\n",
              "      background-color: #3B4455;\n",
              "      fill: #D2E3FC;\n",
              "    }\n",
              "\n",
              "    [theme=dark] .colab-df-convert:hover {\n",
              "      background-color: #434B5C;\n",
              "      box-shadow: 0px 1px 3px 1px rgba(0, 0, 0, 0.15);\n",
              "      filter: drop-shadow(0px 1px 2px rgba(0, 0, 0, 0.3));\n",
              "      fill: #FFFFFF;\n",
              "    }\n",
              "  </style>\n",
              "\n",
              "      <script>\n",
              "        const buttonEl =\n",
              "          document.querySelector('#df-f8da06f9-154c-4b4c-9704-72a7aa1c5bca button.colab-df-convert');\n",
              "        buttonEl.style.display =\n",
              "          google.colab.kernel.accessAllowed ? 'block' : 'none';\n",
              "\n",
              "        async function convertToInteractive(key) {\n",
              "          const element = document.querySelector('#df-f8da06f9-154c-4b4c-9704-72a7aa1c5bca');\n",
              "          const dataTable =\n",
              "            await google.colab.kernel.invokeFunction('convertToInteractive',\n",
              "                                                     [key], {});\n",
              "          if (!dataTable) return;\n",
              "\n",
              "          const docLinkHtml = 'Like what you see? Visit the ' +\n",
              "            '<a target=\"_blank\" href=https://colab.research.google.com/notebooks/data_table.ipynb>data table notebook</a>'\n",
              "            + ' to learn more about interactive tables.';\n",
              "          element.innerHTML = '';\n",
              "          dataTable['output_type'] = 'display_data';\n",
              "          await google.colab.output.renderOutput(dataTable, element);\n",
              "          const docLink = document.createElement('div');\n",
              "          docLink.innerHTML = docLinkHtml;\n",
              "          element.appendChild(docLink);\n",
              "        }\n",
              "      </script>\n",
              "    </div>\n",
              "  </div>\n",
              "  "
            ]
          },
          "metadata": {},
          "execution_count": 5
        }
      ]
    },
    {
      "cell_type": "markdown",
      "source": [
        "**Most Runs**"
      ],
      "metadata": {
        "id": "jEv98aPD_S1B"
      }
    },
    {
      "cell_type": "code",
      "source": [
        "fig, ax = plt.subplots(figsize=(10, 5))\n",
        "sns.barplot(x = ob['Format'], y=ob['Runs'], hue = ob['Ave'], dodge=False, palette = 'autumn')\n",
        "plt.title('Runs accross all formats', weight='bold').set_fontsize('15')\n",
        "plt.gcf().set_size_inches(10, 7)\n",
        "plt.show()"
      ],
      "metadata": {
        "colab": {
          "base_uri": "https://localhost:8080/",
          "height": 466
        },
        "id": "KptFAhqt2Stn",
        "outputId": "0f639c2c-d775-43ef-de06-130744b0f6f4"
      },
      "execution_count": 14,
      "outputs": [
        {
          "output_type": "display_data",
          "data": {
            "text/plain": [
              "<Figure size 720x504 with 1 Axes>"
            ],
            "image/png": "[encoded data removed]"
          },
          "metadata": {}
        }
      ]
    },
    {
      "cell_type": "markdown",
      "source": [
        "**Here in his overall professional career he scored TOO many runs in Red ball cricket**"
      ],
      "metadata": {
        "id": "26YG9M_-3MvR"
      }
    },
    {
      "cell_type": "markdown",
      "source": [
        "**Lets see his Overall Hundreds**"
      ],
      "metadata": {
        "id": "jJlNlfjT_X5r"
      }
    },
    {
      "cell_type": "code",
      "source": [
        "data = {'Format': ['Test', 'ODI', 'FC', 'List-A'],\n",
        "        '100s': [30, 12, 46, 15]}\n",
        "\n",
        "\n",
        "pd.DataFrame(data)"
      ],
      "metadata": {
        "colab": {
          "base_uri": "https://localhost:8080/",
          "height": 173
        },
        "id": "RUT_TahG443n",
        "outputId": "3a4eeefd-6c32-4e7e-8a58-6938e8e6f648"
      },
      "execution_count": 15,
      "outputs": [
        {
          "output_type": "execute_result",
          "data": {
            "text/plain": [
              "   Format  100s\n",
              "0    Test    30\n",
              "1     ODI    12\n",
              "2      FC    46\n",
              "3  List-A    15"
            ],
            "text/html": [
              "\n",
              "  <div id=\"df-e197a3fa-80fd-44ef-a4d7-21c0fb1427b6\">\n",
              "    <div class=\"colab-df-container\">\n",
              "      <div>\n",
              "<style scoped>\n",
              "    .dataframe tbody tr th:only-of-type {\n",
              "        vertical-align: middle;\n",
              "    }\n",
              "\n",
              "    .dataframe tbody tr th {\n",
              "        vertical-align: top;\n",
              "    }\n",
              "\n",
              "    .dataframe thead th {\n",
              "        text-align: right;\n",
              "    }\n",
              "</style>\n",
              "<table border=\"1\" class=\"dataframe\">\n",
              "  <thead>\n",
              "    <tr style=\"text-align: right;\">\n",
              "      <th></th>\n",
              "      <th>Format</th>\n",
              "      <th>100s</th>\n",
              "    </tr>\n",
              "  </thead>\n",
              "  <tbody>\n",
              "    <tr>\n",
              "      <th>0</th>\n",
              "      <td>Test</td>\n",
              "      <td>30</td>\n",
              "    </tr>\n",
              "    <tr>\n",
              "      <th>1</th>\n",
              "      <td>ODI</td>\n",
              "      <td>12</td>\n",
              "    </tr>\n",
              "    <tr>\n",
              "      <th>2</th>\n",
              "      <td>FC</td>\n",
              "      <td>46</td>\n",
              "    </tr>\n",
              "    <tr>\n",
              "      <th>3</th>\n",
              "      <td>List-A</td>\n",
              "      <td>15</td>\n",
              "    </tr>\n",
              "  </tbody>\n",
              "</table>\n",
              "</div>\n",
              "      <button class=\"colab-df-convert\" onclick=\"convertToInteractive('df-e197a3fa-80fd-44ef-a4d7-21c0fb1427b6')\"\n",
              "              title=\"Convert this dataframe to an interactive table.\"\n",
              "              style=\"display:none;\">\n",
              "        \n",
              "  <svg xmlns=\"http://www.w3.org/2000/svg\" height=\"24px\"viewBox=\"0 0 24 24\"\n",
              "       width=\"24px\">\n",
              "    <path d=\"M0 0h24v24H0V0z\" fill=\"none\"/>\n",
              "    <path d=\"M18.56 5.44l.94 2.06.94-2.06 2.06-.94-2.06-.94-.94-2.06-.94 2.06-2.06.94zm-11 1L8.5 8.5l.94-2.06 2.06-.94-2.06-.94L8.5 2.5l-.94 2.06-2.06.94zm10 10l.94 2.06.94-2.06 2.06-.94-2.06-.94-.94-2.06-.94 2.06-2.06.94z\"/><path d=\"M17.41 7.96l-1.37-1.37c-.4-.4-.92-.59-1.43-.59-.52 0-1.04.2-1.43.59L10.3 9.45l-7.72 7.72c-.78.78-.78 2.05 0 2.83L4 21.41c.39.39.9.59 1.41.59.51 0 1.02-.2 1.41-.59l7.78-7.78 2.81-2.81c.8-.78.8-2.07 0-2.86zM5.41 20L4 18.59l7.72-7.72 1.47 1.35L5.41 20z\"/>\n",
              "  </svg>\n",
              "      </button>\n",
              "      \n",
              "  <style>\n",
              "    .colab-df-container {\n",
              "      display:flex;\n",
              "      flex-wrap:wrap;\n",
              "      gap: 12px;\n",
              "    }\n",
              "\n",
              "    .colab-df-convert {\n",
              "      background-color: #E8F0FE;\n",
              "      border: none;\n",
              "      border-radius: 50%;\n",
              "      cursor: pointer;\n",
              "      display: none;\n",
              "      fill: #1967D2;\n",
              "      height: 32px;\n",
              "      padding: 0 0 0 0;\n",
              "      width: 32px;\n",
              "    }\n",
              "\n",
              "    .colab-df-convert:hover {\n",
              "      background-color: #E2EBFA;\n",
              "      box-shadow: 0px 1px 2px rgba(60, 64, 67, 0.3), 0px 1px 3px 1px rgba(60, 64, 67, 0.15);\n",
              "      fill: #174EA6;\n",
              "    }\n",
              "\n",
              "    [theme=dark] .colab-df-convert {\n",
              "      background-color: #3B4455;\n",
              "      fill: #D2E3FC;\n",
              "    }\n",
              "\n",
              "    [theme=dark] .colab-df-convert:hover {\n",
              "      background-color: #434B5C;\n",
              "      box-shadow: 0px 1px 3px 1px rgba(0, 0, 0, 0.15);\n",
              "      filter: drop-shadow(0px 1px 2px rgba(0, 0, 0, 0.3));\n",
              "      fill: #FFFFFF;\n",
              "    }\n",
              "  </style>\n",
              "\n",
              "      <script>\n",
              "        const buttonEl =\n",
              "          document.querySelector('#df-e197a3fa-80fd-44ef-a4d7-21c0fb1427b6 button.colab-df-convert');\n",
              "        buttonEl.style.display =\n",
              "          google.colab.kernel.accessAllowed ? 'block' : 'none';\n",
              "\n",
              "        async function convertToInteractive(key) {\n",
              "          const element = document.querySelector('#df-e197a3fa-80fd-44ef-a4d7-21c0fb1427b6');\n",
              "          const dataTable =\n",
              "            await google.colab.kernel.invokeFunction('convertToInteractive',\n",
              "                                                     [key], {});\n",
              "          if (!dataTable) return;\n",
              "\n",
              "          const docLinkHtml = 'Like what you see? Visit the ' +\n",
              "            '<a target=\"_blank\" href=https://colab.research.google.com/notebooks/data_table.ipynb>data table notebook</a>'\n",
              "            + ' to learn more about interactive tables.';\n",
              "          element.innerHTML = '';\n",
              "          dataTable['output_type'] = 'display_data';\n",
              "          await google.colab.output.renderOutput(dataTable, element);\n",
              "          const docLink = document.createElement('div');\n",
              "          docLink.innerHTML = docLinkHtml;\n",
              "          element.appendChild(docLink);\n",
              "        }\n",
              "      </script>\n",
              "    </div>\n",
              "  </div>\n",
              "  "
            ]
          },
          "metadata": {},
          "execution_count": 15
        }
      ]
    },
    {
      "cell_type": "code",
      "source": [
        "fig, ax = plt.subplots(figsize=(10, 5))\n",
        "sns.barplot(data['Format'], data['100s'], palette = 'bright')\n",
        "plt.title('Overall 100s', weight='bold').set_fontsize('15')\n",
        "plt.gcf().set_size_inches(10, 7)\n",
        "plt.show();"
      ],
      "metadata": {
        "colab": {
          "base_uri": "https://localhost:8080/",
          "height": 503
        },
        "id": "ycpAaT7O6iYK",
        "outputId": "fe8f68c1-a8af-4986-b180-de0f6d8541ad"
      },
      "execution_count": 27,
      "outputs": [
        {
          "output_type": "stream",
          "name": "stderr",
          "text": [
            "/usr/local/lib/python3.8/dist-packages/seaborn/_decorators.py:36: FutureWarning: Pass the following variables as keyword args: x, y. From version 0.12, the only valid positional argument will be `data`, and passing other arguments without an explicit keyword will result in an error or misinterpretation.\n",
            "  warnings.warn(\n"
          ]
        },
        {
          "output_type": "display_data",
          "data": {
            "text/plain": [
              "<Figure size 720x504 with 1 Axes>"
            ],
            "image/png": "[encoded data removed]"
          },
          "metadata": {}
        }
      ]
    },
    {
      "cell_type": "markdown",
      "source": [
        "**He has scored so many 100s in First Class Cricket followed by Test Matches**"
      ],
      "metadata": {
        "id": "Uv1-QDP774ab"
      }
    },
    {
      "cell_type": "markdown",
      "source": [
        "**Lets see his Overall Fifties**"
      ],
      "metadata": {
        "id": "EgCOo7li_dna"
      }
    },
    {
      "cell_type": "code",
      "source": [
        "data1 = {'Format': ['Test', 'ODI', 'FC', 'List-A', 'T20'],\n",
        "        '50s': [37, 29, 57, 43, 21]}\n",
        "\n",
        "pd.DataFrame(data1)\n"
      ],
      "metadata": {
        "colab": {
          "base_uri": "https://localhost:8080/",
          "height": 204
        },
        "id": "fJ4s4HJn6pdz",
        "outputId": "f8089074-2e66-4e42-eab9-9a5970f93259"
      },
      "execution_count": 22,
      "outputs": [
        {
          "output_type": "execute_result",
          "data": {
            "text/plain": [
              "   Format  50s\n",
              "0    Test   37\n",
              "1     ODI   29\n",
              "2      FC   57\n",
              "3  List-A   43\n",
              "4     T20   21"
            ],
            "text/html": [
              "\n",
              "  <div id=\"df-f0dc6606-bc75-488d-b96d-2f5aed47c982\">\n",
              "    <div class=\"colab-df-container\">\n",
              "      <div>\n",
              "<style scoped>\n",
              "    .dataframe tbody tr th:only-of-type {\n",
              "        vertical-align: middle;\n",
              "    }\n",
              "\n",
              "    .dataframe tbody tr th {\n",
              "        vertical-align: top;\n",
              "    }\n",
              "\n",
              "    .dataframe thead th {\n",
              "        text-align: right;\n",
              "    }\n",
              "</style>\n",
              "<table border=\"1\" class=\"dataframe\">\n",
              "  <thead>\n",
              "    <tr style=\"text-align: right;\">\n",
              "      <th></th>\n",
              "      <th>Format</th>\n",
              "      <th>50s</th>\n",
              "    </tr>\n",
              "  </thead>\n",
              "  <tbody>\n",
              "    <tr>\n",
              "      <th>0</th>\n",
              "      <td>Test</td>\n",
              "      <td>37</td>\n",
              "    </tr>\n",
              "    <tr>\n",
              "      <th>1</th>\n",
              "      <td>ODI</td>\n",
              "      <td>29</td>\n",
              "    </tr>\n",
              "    <tr>\n",
              "      <th>2</th>\n",
              "      <td>FC</td>\n",
              "      <td>57</td>\n",
              "    </tr>\n",
              "    <tr>\n",
              "      <th>3</th>\n",
              "      <td>List-A</td>\n",
              "      <td>43</td>\n",
              "    </tr>\n",
              "    <tr>\n",
              "      <th>4</th>\n",
              "      <td>T20</td>\n",
              "      <td>21</td>\n",
              "    </tr>\n",
              "  </tbody>\n",
              "</table>\n",
              "</div>\n",
              "      <button class=\"colab-df-convert\" onclick=\"convertToInteractive('df-f0dc6606-bc75-488d-b96d-2f5aed47c982')\"\n",
              "              title=\"Convert this dataframe to an interactive table.\"\n",
              "              style=\"display:none;\">\n",
              "        \n",
              "  <svg xmlns=\"http://www.w3.org/2000/svg\" height=\"24px\"viewBox=\"0 0 24 24\"\n",
              "       width=\"24px\">\n",
              "    <path d=\"M0 0h24v24H0V0z\" fill=\"none\"/>\n",
              "    <path d=\"M18.56 5.44l.94 2.06.94-2.06 2.06-.94-2.06-.94-.94-2.06-.94 2.06-2.06.94zm-11 1L8.5 8.5l.94-2.06 2.06-.94-2.06-.94L8.5 2.5l-.94 2.06-2.06.94zm10 10l.94 2.06.94-2.06 2.06-.94-2.06-.94-.94-2.06-.94 2.06-2.06.94z\"/><path d=\"M17.41 7.96l-1.37-1.37c-.4-.4-.92-.59-1.43-.59-.52 0-1.04.2-1.43.59L10.3 9.45l-7.72 7.72c-.78.78-.78 2.05 0 2.83L4 21.41c.39.39.9.59 1.41.59.51 0 1.02-.2 1.41-.59l7.78-7.78 2.81-2.81c.8-.78.8-2.07 0-2.86zM5.41 20L4 18.59l7.72-7.72 1.47 1.35L5.41 20z\"/>\n",
              "  </svg>\n",
              "      </button>\n",
              "      \n",
              "  <style>\n",
              "    .colab-df-container {\n",
              "      display:flex;\n",
              "      flex-wrap:wrap;\n",
              "      gap: 12px;\n",
              "    }\n",
              "\n",
              "    .colab-df-convert {\n",
              "      background-color: #E8F0FE;\n",
              "      border: none;\n",
              "      border-radius: 50%;\n",
              "      cursor: pointer;\n",
              "      display: none;\n",
              "      fill: #1967D2;\n",
              "      height: 32px;\n",
              "      padding: 0 0 0 0;\n",
              "      width: 32px;\n",
              "    }\n",
              "\n",
              "    .colab-df-convert:hover {\n",
              "      background-color: #E2EBFA;\n",
              "      box-shadow: 0px 1px 2px rgba(60, 64, 67, 0.3), 0px 1px 3px 1px rgba(60, 64, 67, 0.15);\n",
              "      fill: #174EA6;\n",
              "    }\n",
              "\n",
              "    [theme=dark] .colab-df-convert {\n",
              "      background-color: #3B4455;\n",
              "      fill: #D2E3FC;\n",
              "    }\n",
              "\n",
              "    [theme=dark] .colab-df-convert:hover {\n",
              "      background-color: #434B5C;\n",
              "      box-shadow: 0px 1px 3px 1px rgba(0, 0, 0, 0.15);\n",
              "      filter: drop-shadow(0px 1px 2px rgba(0, 0, 0, 0.3));\n",
              "      fill: #FFFFFF;\n",
              "    }\n",
              "  </style>\n",
              "\n",
              "      <script>\n",
              "        const buttonEl =\n",
              "          document.querySelector('#df-f0dc6606-bc75-488d-b96d-2f5aed47c982 button.colab-df-convert');\n",
              "        buttonEl.style.display =\n",
              "          google.colab.kernel.accessAllowed ? 'block' : 'none';\n",
              "\n",
              "        async function convertToInteractive(key) {\n",
              "          const element = document.querySelector('#df-f0dc6606-bc75-488d-b96d-2f5aed47c982');\n",
              "          const dataTable =\n",
              "            await google.colab.kernel.invokeFunction('convertToInteractive',\n",
              "                                                     [key], {});\n",
              "          if (!dataTable) return;\n",
              "\n",
              "          const docLinkHtml = 'Like what you see? Visit the ' +\n",
              "            '<a target=\"_blank\" href=https://colab.research.google.com/notebooks/data_table.ipynb>data table notebook</a>'\n",
              "            + ' to learn more about interactive tables.';\n",
              "          element.innerHTML = '';\n",
              "          dataTable['output_type'] = 'display_data';\n",
              "          await google.colab.output.renderOutput(dataTable, element);\n",
              "          const docLink = document.createElement('div');\n",
              "          docLink.innerHTML = docLinkHtml;\n",
              "          element.appendChild(docLink);\n",
              "        }\n",
              "      </script>\n",
              "    </div>\n",
              "  </div>\n",
              "  "
            ]
          },
          "metadata": {},
          "execution_count": 22
        }
      ]
    },
    {
      "cell_type": "code",
      "source": [
        "fig, ax = plt.subplots(figsize=(10, 5))\n",
        "sns.barplot(data1['Format'], data1['50s'],palette = 'magma')\n",
        "plt.title('Overall 50s', weight='bold').set_fontsize('15')\n",
        "plt.gcf().set_size_inches(10, 7)\n",
        "\n",
        "plt.show();"
      ],
      "metadata": {
        "colab": {
          "base_uri": "https://localhost:8080/",
          "height": 503
        },
        "id": "jV4n0Dmn9UV4",
        "outputId": "e01d5288-c962-4389-a5dc-d11d67ea699b"
      },
      "execution_count": 25,
      "outputs": [
        {
          "output_type": "stream",
          "name": "stderr",
          "text": [
            "/usr/local/lib/python3.8/dist-packages/seaborn/_decorators.py:36: FutureWarning: Pass the following variables as keyword args: x, y. From version 0.12, the only valid positional argument will be `data`, and passing other arguments without an explicit keyword will result in an error or misinterpretation.\n",
            "  warnings.warn(\n"
          ]
        },
        {
          "output_type": "display_data",
          "data": {
            "text/plain": [
              "<Figure size 720x504 with 1 Axes>"
            ],
            "image/png": "[encoded data removed]"
          },
          "metadata": {}
        }
      ]
    },
    {
      "cell_type": "markdown",
      "source": [
        "**He has scored so many 50s in First Class Cricket followed by List-A Matches**"
      ],
      "metadata": {
        "id": "9tdfE4lb9hia"
      }
    },
    {
      "cell_type": "markdown",
      "source": [
        "**Lets see his Overall Boundaries scored**"
      ],
      "metadata": {
        "id": "tWaX_2WR_i7o"
      }
    },
    {
      "cell_type": "code",
      "source": [
        "fig, ax = plt.subplots(figsize=(10, 5))\n",
        "sns.barplot( ob['Format'], ob['4s'],dodge=False, palette = 'crest' )\n",
        "plt.title('Overall 4s', weight='bold').set_fontsize('15')\n",
        "plt.gcf().set_size_inches(10, 7)\n",
        "\n",
        "plt.show();"
      ],
      "metadata": {
        "colab": {
          "base_uri": "https://localhost:8080/",
          "height": 520
        },
        "id": "VD2W-8Qp9dea",
        "outputId": "4498e45c-97d5-4aa5-e8af-625e40434708"
      },
      "execution_count": 26,
      "outputs": [
        {
          "output_type": "stream",
          "name": "stderr",
          "text": [
            "/usr/local/lib/python3.8/dist-packages/seaborn/_decorators.py:36: FutureWarning: Pass the following variables as keyword args: x, y. From version 0.12, the only valid positional argument will be `data`, and passing other arguments without an explicit keyword will result in an error or misinterpretation.\n",
            "  warnings.warn(\n"
          ]
        },
        {
          "output_type": "display_data",
          "data": {
            "text/plain": [
              "<Figure size 720x504 with 1 Axes>"
            ],
            "image/png": "[encoded data removed]"
          },
          "metadata": {}
        }
      ]
    },
    {
      "cell_type": "code",
      "source": [
        "fig, ax = plt.subplots(figsize=(10, 5))\n",
        "sns.barplot( ob['Format'], ob['6s'],dodge=False, palette = 'rocket')\n",
        "plt.title('Overall 6s', weight='bold').set_fontsize('15')\n",
        "plt.gcf().set_size_inches(10, 7)\n",
        "\n",
        "plt.show();"
      ],
      "metadata": {
        "colab": {
          "base_uri": "https://localhost:8080/",
          "height": 520
        },
        "id": "dIhG1UJN-GvJ",
        "outputId": "41f1cac8-da61-4b1f-aa97-75cf856b16f6"
      },
      "execution_count": 31,
      "outputs": [
        {
          "output_type": "stream",
          "name": "stderr",
          "text": [
            "/usr/local/lib/python3.8/dist-packages/seaborn/_decorators.py:36: FutureWarning: Pass the following variables as keyword args: x, y. From version 0.12, the only valid positional argument will be `data`, and passing other arguments without an explicit keyword will result in an error or misinterpretation.\n",
            "  warnings.warn(\n"
          ]
        },
        {
          "output_type": "display_data",
          "data": {
            "text/plain": [
              "<Figure size 720x504 with 1 Axes>"
            ],
            "image/png": "[encoded data removed]"
          },
          "metadata": {}
        }
      ]
    },
    {
      "cell_type": "markdown",
      "source": [
        "**Lets see his Overall Batting Average**"
      ],
      "metadata": {
        "id": "y6-sTv3L_4B5"
      }
    },
    {
      "cell_type": "code",
      "source": [
        "fig, ax = plt.subplots(figsize=(10, 5))\n",
        "sns.barplot(x = ob['Format'], y=ob['Ave'], dodge=False, palette = \"YlOrBr\" )\n",
        "plt.title('Batting Average', weight='bold').set_fontsize('15')\n",
        "plt.gcf().set_size_inches(10, 7)\n",
        "plt.show()"
      ],
      "metadata": {
        "colab": {
          "base_uri": "https://localhost:8080/",
          "height": 466
        },
        "id": "oHqTZzdE_OTq",
        "outputId": "cd20ff80-fdc3-40e7-ae5c-c9dadcc0e1d8"
      },
      "execution_count": 35,
      "outputs": [
        {
          "output_type": "display_data",
          "data": {
            "text/plain": [
              "<Figure size 720x504 with 1 Axes>"
            ],
            "image/png": "[encoded data removed]"
          },
          "metadata": {}
        }
      ]
    },
    {
      "cell_type": "markdown",
      "source": [
        "**Seeing his amazing average in Red Ball cricket, he is called the next Bradman**"
      ],
      "metadata": {
        "id": "BccvAwit_9La"
      }
    },
    {
      "cell_type": "markdown",
      "source": [
        "# **Test Cenuturies**"
      ],
      "metadata": {
        "id": "cvfez2DNaddy"
      }
    },
    {
      "cell_type": "code",
      "source": [
        "tc = pd.read_excel('/content/smith test centuries.xlsx')\n",
        "tc.head()"
      ],
      "metadata": {
        "colab": {
          "base_uri": "https://localhost:8080/",
          "height": 204
        },
        "id": "kjBZ6yTFbnyh",
        "outputId": "5a7c9480-21f1-4f14-f517-352bb9e71bd6"
      },
      "execution_count": 36,
      "outputs": [
        {
          "output_type": "execute_result",
          "data": {
            "text/plain": [
              "   No. Score       Against  Pos.  Inn.       Test  \\\n",
              "0    1  138*       England     5     1 2023-05-05   \n",
              "1    2   111       England     5     1 2023-05-03   \n",
              "2    3   115       England     5     1 2023-05-05   \n",
              "3    4   100  South Africa     6     1 2023-03-01   \n",
              "4    5  162*         India     5     1 2023-04-01   \n",
              "\n",
              "                           Venue   H/A       Date Result  Ref  \n",
              "0               The Oval, London  Away 2013-08-21  Drawn  NaN  \n",
              "1             WACA Ground, Perth  Home 2013-12-13    Won  NaN  \n",
              "2  Sydney Cricket Ground, Sydney  Home 2014-01-03    Won  NaN  \n",
              "3     SuperSport Park, Centurion  Away 2014-02-12    Won  NaN  \n",
              "4        Adelaide Oval, Adelaide  Home 2014-12-09    Won  NaN  "
            ],
            "text/html": [
              "\n",
              "  <div id=\"df-e8f91e59-0e78-4d4d-8aa9-eee149310ad5\">\n",
              "    <div class=\"colab-df-container\">\n",
              "      <div>\n",
              "<style scoped>\n",
              "    .dataframe tbody tr th:only-of-type {\n",
              "        vertical-align: middle;\n",
              "    }\n",
              "\n",
              "    .dataframe tbody tr th {\n",
              "        vertical-align: top;\n",
              "    }\n",
              "\n",
              "    .dataframe thead th {\n",
              "        text-align: right;\n",
              "    }\n",
              "</style>\n",
              "<table border=\"1\" class=\"dataframe\">\n",
              "  <thead>\n",
              "    <tr style=\"text-align: right;\">\n",
              "      <th></th>\n",
              "      <th>No.</th>\n",
              "      <th>Score</th>\n",
              "      <th>Against</th>\n",
              "      <th>Pos.</th>\n",
              "      <th>Inn.</th>\n",
              "      <th>Test</th>\n",
              "      <th>Venue</th>\n",
              "      <th>H/A</th>\n",
              "      <th>Date</th>\n",
              "      <th>Result</th>\n",
              "      <th>Ref</th>\n",
              "    </tr>\n",
              "  </thead>\n",
              "  <tbody>\n",
              "    <tr>\n",
              "      <th>0</th>\n",
              "      <td>1</td>\n",
              "      <td>138*</td>\n",
              "      <td>England</td>\n",
              "      <td>5</td>\n",
              "      <td>1</td>\n",
              "      <td>2023-05-05</td>\n",
              "      <td>The Oval, London</td>\n",
              "      <td>Away</td>\n",
              "      <td>2013-08-21</td>\n",
              "      <td>Drawn</td>\n",
              "      <td>NaN</td>\n",
              "    </tr>\n",
              "    <tr>\n",
              "      <th>1</th>\n",
              "      <td>2</td>\n",
              "      <td>111</td>\n",
              "      <td>England</td>\n",
              "      <td>5</td>\n",
              "      <td>1</td>\n",
              "      <td>2023-05-03</td>\n",
              "      <td>WACA Ground, Perth</td>\n",
              "      <td>Home</td>\n",
              "      <td>2013-12-13</td>\n",
              "      <td>Won</td>\n",
              "      <td>NaN</td>\n",
              "    </tr>\n",
              "    <tr>\n",
              "      <th>2</th>\n",
              "      <td>3</td>\n",
              "      <td>115</td>\n",
              "      <td>England</td>\n",
              "      <td>5</td>\n",
              "      <td>1</td>\n",
              "      <td>2023-05-05</td>\n",
              "      <td>Sydney Cricket Ground, Sydney</td>\n",
              "      <td>Home</td>\n",
              "      <td>2014-01-03</td>\n",
              "      <td>Won</td>\n",
              "      <td>NaN</td>\n",
              "    </tr>\n",
              "    <tr>\n",
              "      <th>3</th>\n",
              "      <td>4</td>\n",
              "      <td>100</td>\n",
              "      <td>South Africa</td>\n",
              "      <td>6</td>\n",
              "      <td>1</td>\n",
              "      <td>2023-03-01</td>\n",
              "      <td>SuperSport Park, Centurion</td>\n",
              "      <td>Away</td>\n",
              "      <td>2014-02-12</td>\n",
              "      <td>Won</td>\n",
              "      <td>NaN</td>\n",
              "    </tr>\n",
              "    <tr>\n",
              "      <th>4</th>\n",
              "      <td>5</td>\n",
              "      <td>162*</td>\n",
              "      <td>India</td>\n",
              "      <td>5</td>\n",
              "      <td>1</td>\n",
              "      <td>2023-04-01</td>\n",
              "      <td>Adelaide Oval, Adelaide</td>\n",
              "      <td>Home</td>\n",
              "      <td>2014-12-09</td>\n",
              "      <td>Won</td>\n",
              "      <td>NaN</td>\n",
              "    </tr>\n",
              "  </tbody>\n",
              "</table>\n",
              "</div>\n",
              "      <button class=\"colab-df-convert\" onclick=\"convertToInteractive('df-e8f91e59-0e78-4d4d-8aa9-eee149310ad5')\"\n",
              "              title=\"Convert this dataframe to an interactive table.\"\n",
              "              style=\"display:none;\">\n",
              "        \n",
              "  <svg xmlns=\"http://www.w3.org/2000/svg\" height=\"24px\"viewBox=\"0 0 24 24\"\n",
              "       width=\"24px\">\n",
              "    <path d=\"M0 0h24v24H0V0z\" fill=\"none\"/>\n",
              "    <path d=\"M18.56 5.44l.94 2.06.94-2.06 2.06-.94-2.06-.94-.94-2.06-.94 2.06-2.06.94zm-11 1L8.5 8.5l.94-2.06 2.06-.94-2.06-.94L8.5 2.5l-.94 2.06-2.06.94zm10 10l.94 2.06.94-2.06 2.06-.94-2.06-.94-.94-2.06-.94 2.06-2.06.94z\"/><path d=\"M17.41 7.96l-1.37-1.37c-.4-.4-.92-.59-1.43-.59-.52 0-1.04.2-1.43.59L10.3 9.45l-7.72 7.72c-.78.78-.78 2.05 0 2.83L4 21.41c.39.39.9.59 1.41.59.51 0 1.02-.2 1.41-.59l7.78-7.78 2.81-2.81c.8-.78.8-2.07 0-2.86zM5.41 20L4 18.59l7.72-7.72 1.47 1.35L5.41 20z\"/>\n",
              "  </svg>\n",
              "      </button>\n",
              "      \n",
              "  <style>\n",
              "    .colab-df-container {\n",
              "      display:flex;\n",
              "      flex-wrap:wrap;\n",
              "      gap: 12px;\n",
              "    }\n",
              "\n",
              "    .colab-df-convert {\n",
              "      background-color: #E8F0FE;\n",
              "      border: none;\n",
              "      border-radius: 50%;\n",
              "      cursor: pointer;\n",
              "      display: none;\n",
              "      fill: #1967D2;\n",
              "      height: 32px;\n",
              "      padding: 0 0 0 0;\n",
              "      width: 32px;\n",
              "    }\n",
              "\n",
              "    .colab-df-convert:hover {\n",
              "      background-color: #E2EBFA;\n",
              "      box-shadow: 0px 1px 2px rgba(60, 64, 67, 0.3), 0px 1px 3px 1px rgba(60, 64, 67, 0.15);\n",
              "      fill: #174EA6;\n",
              "    }\n",
              "\n",
              "    [theme=dark] .colab-df-convert {\n",
              "      background-color: #3B4455;\n",
              "      fill: #D2E3FC;\n",
              "    }\n",
              "\n",
              "    [theme=dark] .colab-df-convert:hover {\n",
              "      background-color: #434B5C;\n",
              "      box-shadow: 0px 1px 3px 1px rgba(0, 0, 0, 0.15);\n",
              "      filter: drop-shadow(0px 1px 2px rgba(0, 0, 0, 0.3));\n",
              "      fill: #FFFFFF;\n",
              "    }\n",
              "  </style>\n",
              "\n",
              "      <script>\n",
              "        const buttonEl =\n",
              "          document.querySelector('#df-e8f91e59-0e78-4d4d-8aa9-eee149310ad5 button.colab-df-convert');\n",
              "        buttonEl.style.display =\n",
              "          google.colab.kernel.accessAllowed ? 'block' : 'none';\n",
              "\n",
              "        async function convertToInteractive(key) {\n",
              "          const element = document.querySelector('#df-e8f91e59-0e78-4d4d-8aa9-eee149310ad5');\n",
              "          const dataTable =\n",
              "            await google.colab.kernel.invokeFunction('convertToInteractive',\n",
              "                                                     [key], {});\n",
              "          if (!dataTable) return;\n",
              "\n",
              "          const docLinkHtml = 'Like what you see? Visit the ' +\n",
              "            '<a target=\"_blank\" href=https://colab.research.google.com/notebooks/data_table.ipynb>data table notebook</a>'\n",
              "            + ' to learn more about interactive tables.';\n",
              "          element.innerHTML = '';\n",
              "          dataTable['output_type'] = 'display_data';\n",
              "          await google.colab.output.renderOutput(dataTable, element);\n",
              "          const docLink = document.createElement('div');\n",
              "          docLink.innerHTML = docLinkHtml;\n",
              "          element.appendChild(docLink);\n",
              "        }\n",
              "      </script>\n",
              "    </div>\n",
              "  </div>\n",
              "  "
            ]
          },
          "metadata": {},
          "execution_count": 36
        }
      ]
    },
    {
      "cell_type": "code",
      "source": [
        "ind = tc.loc[tc['Against'] == 'India'].count()[0]\n",
        "\n",
        "eng = tc.loc[tc['Against'] == 'England'].count()[0]\n",
        "\n",
        "sa = tc.loc[tc['Against'] == 'South Africa'].count()[0]\n",
        "\n",
        "nz = tc.loc[tc['Against'] == 'New Zealand'].count()[0]\n",
        "\n",
        "sl = tc.loc[tc['Against'] == 'Sri Lanka'].count()[0]\n",
        "\n",
        "pak = tc.loc[tc['Against'] == 'Pakistan'].count()[0]\n",
        "\n",
        "wi = tc.loc[tc['Against'] == 'West Indies'].count()[0]\n"
      ],
      "metadata": {
        "id": "4Ia9i2p6b1MN"
      },
      "execution_count": 37,
      "outputs": []
    },
    {
      "cell_type": "code",
      "source": [
        "data = {'Ind' : 8, 'Eng': 11, 'Sa': 2, 'Nz' : 2, 'Pak': 2, 'Sl':2, 'Wi': 3}\n",
        "t = list(data.keys())\n",
        "c = list(data.values())\n"
      ],
      "metadata": {
        "id": "VZG0y6byd-WC"
      },
      "execution_count": 38,
      "outputs": []
    },
    {
      "cell_type": "code",
      "source": [
        "plt.figure(figsize=(15,10))\n",
        "plt.bar(t, c, color ='red')\n",
        "plt.xlabel(\"Teams\", fontdict = {'fontweight' : 'bold', 'fontsize' : 15})\n",
        "plt.ylabel(\"list of centuries\", fontdict = {'fontweight' : 'bold', 'fontsize' : 15})\n",
        "plt.title(\"Centuries against different nations\", fontdict = {'fontweight' : 'bold', 'fontsize' : 20})\n",
        "plt.show()"
      ],
      "metadata": {
        "colab": {
          "base_uri": "https://localhost:8080/",
          "height": 634
        },
        "id": "pbNTRuwUjZUz",
        "outputId": "f033a324-72db-44e8-9ad6-d0a8724c02bf"
      },
      "execution_count": 40,
      "outputs": [
        {
          "output_type": "display_data",
          "data": {
            "text/plain": [
              "<Figure size 1080x720 with 1 Axes>"
            ],
            "image/png": "[encoded data removed]"
          },
          "metadata": {}
        }
      ]
    },
    {
      "cell_type": "markdown",
      "source": [
        "**He scored majority of his centuries against England**"
      ],
      "metadata": {
        "id": "vxzgA3Wmih83"
      }
    },
    {
      "cell_type": "code",
      "source": [
        "home = tc.loc[tc['H/A'] == 'Home'].count()[0]\n",
        "\n",
        "away = tc.loc[tc['H/A'] == 'Away'].count()[0]"
      ],
      "metadata": {
        "id": "7u7Sxwcwjq3N"
      },
      "execution_count": 41,
      "outputs": []
    },
    {
      "cell_type": "code",
      "source": [
        "labels = ['Home', 'Away']\n",
        "colors = ['green', 'yellow']\n",
        "\n",
        "plt.pie([home, away], labels = labels, colors = colors, autopct='%.2f %%')\n",
        "plt.title('Centuries scored home vs away', fontdict = {'fontweight' : 'bold', 'fontsize' : 20})\n",
        "plt.show()"
      ],
      "metadata": {
        "colab": {
          "base_uri": "https://localhost:8080/",
          "height": 269
        },
        "id": "sHPXQStKk2Vo",
        "outputId": "162531c4-1765-4099-cb9e-e9ece2a38ff3"
      },
      "execution_count": 42,
      "outputs": [
        {
          "output_type": "display_data",
          "data": {
            "text/plain": [
              "<Figure size 432x288 with 1 Axes>"
            ],
            "image/png": "[encoded data removed]"
          },
          "metadata": {}
        }
      ]
    },
    {
      "cell_type": "markdown",
      "source": [
        "**This proves that he is a very good player even in foreign conditions**"
      ],
      "metadata": {
        "id": "yXj5Nlj7l9DU"
      }
    },
    {
      "cell_type": "code",
      "source": [
        "tc.groupby('Pos.')['Score'].value_counts()"
      ],
      "metadata": {
        "colab": {
          "base_uri": "https://localhost:8080/"
        },
        "id": "Rk5s4bUjNoCO",
        "outputId": "1545e690-75cb-4ac2-f7c7-f46d1d2e6c83"
      },
      "execution_count": 43,
      "outputs": [
        {
          "output_type": "execute_result",
          "data": {
            "text/plain": [
              "Pos.  Score\n",
              "3     109      1\n",
              "      111      1\n",
              "      119      1\n",
              "      138      1\n",
              "      143      1\n",
              "      178*     1\n",
              "      199      1\n",
              "      215      1\n",
              "4     102*     1\n",
              "      104      1\n",
              "      117      1\n",
              "      130      1\n",
              "      131      1\n",
              "      133      1\n",
              "      134*     1\n",
              "      138      1\n",
              "      141*     1\n",
              "      142      1\n",
              "      144      1\n",
              "      145*     1\n",
              "      165*     1\n",
              "      192      1\n",
              "      200*     1\n",
              "      211      1\n",
              "      239      1\n",
              "5     111      1\n",
              "      115      1\n",
              "      138*     1\n",
              "      162*     1\n",
              "6     100      1\n",
              "Name: Score, dtype: int64"
            ]
          },
          "metadata": {},
          "execution_count": 43
        }
      ]
    },
    {
      "cell_type": "markdown",
      "source": [
        "**This shows that he's majority of the centuries came while batting at No. 4**"
      ],
      "metadata": {
        "id": "Gk2yheBmOUx-"
      }
    },
    {
      "cell_type": "markdown",
      "source": [
        "# **Year Wise Runs**"
      ],
      "metadata": {
        "id": "kf_g70ESOuuN"
      }
    },
    {
      "cell_type": "code",
      "source": [
        "yw = pd.read_csv('/content/smith yr wise_.csv')\n",
        "yw.head()"
      ],
      "metadata": {
        "colab": {
          "base_uri": "https://localhost:8080/",
          "height": 204
        },
        "id": "p4Gw1ur5OzCr",
        "outputId": "4c95618d-acdc-4673-d9c3-4134bfbee327"
      },
      "execution_count": 45,
      "outputs": [
        {
          "output_type": "execute_result",
          "data": {
            "text/plain": [
              "     Column1  Mat  Inns  NO  Runs    HS    Avg    BF     SR  100s  50s  0s  \\\n",
              "0  year 2010    4     8   0   187    77  23.37   313  59.74     0    1   0   \n",
              "1  year 2011    1     2   1    72   54*  72.00   143  50.34     0    1   0   \n",
              "2  year 2013   11    21   2   711  138*  37.42  1550  45.87     2    3   1   \n",
              "3  year 2014    9    17   3  1146   192  81.85  1913  59.90     5    4   2   \n",
              "4  year 2015   13    24   4  1474   215  73.70  2374  62.08     6    5   0   \n",
              "\n",
              "    4s  6s  \n",
              "0   20   2  \n",
              "1    7   0  \n",
              "2   74  10  \n",
              "3  131   8  \n",
              "4  167   7  "
            ],
            "text/html": [
              "\n",
              "  <div id=\"df-0535be6f-d5af-4761-944f-9eeb1344a6bd\">\n",
              "    <div class=\"colab-df-container\">\n",
              "      <div>\n",
              "<style scoped>\n",
              "    .dataframe tbody tr th:only-of-type {\n",
              "        vertical-align: middle;\n",
              "    }\n",
              "\n",
              "    .dataframe tbody tr th {\n",
              "        vertical-align: top;\n",
              "    }\n",
              "\n",
              "    .dataframe thead th {\n",
              "        text-align: right;\n",
              "    }\n",
              "</style>\n",
              "<table border=\"1\" class=\"dataframe\">\n",
              "  <thead>\n",
              "    <tr style=\"text-align: right;\">\n",
              "      <th></th>\n",
              "      <th>Column1</th>\n",
              "      <th>Mat</th>\n",
              "      <th>Inns</th>\n",
              "      <th>NO</th>\n",
              "      <th>Runs</th>\n",
              "      <th>HS</th>\n",
              "      <th>Avg</th>\n",
              "      <th>BF</th>\n",
              "      <th>SR</th>\n",
              "      <th>100s</th>\n",
              "      <th>50s</th>\n",
              "      <th>0s</th>\n",
              "      <th>4s</th>\n",
              "      <th>6s</th>\n",
              "    </tr>\n",
              "  </thead>\n",
              "  <tbody>\n",
              "    <tr>\n",
              "      <th>0</th>\n",
              "      <td>year 2010</td>\n",
              "      <td>4</td>\n",
              "      <td>8</td>\n",
              "      <td>0</td>\n",
              "      <td>187</td>\n",
              "      <td>77</td>\n",
              "      <td>23.37</td>\n",
              "      <td>313</td>\n",
              "      <td>59.74</td>\n",
              "      <td>0</td>\n",
              "      <td>1</td>\n",
              "      <td>0</td>\n",
              "      <td>20</td>\n",
              "      <td>2</td>\n",
              "    </tr>\n",
              "    <tr>\n",
              "      <th>1</th>\n",
              "      <td>year 2011</td>\n",
              "      <td>1</td>\n",
              "      <td>2</td>\n",
              "      <td>1</td>\n",
              "      <td>72</td>\n",
              "      <td>54*</td>\n",
              "      <td>72.00</td>\n",
              "      <td>143</td>\n",
              "      <td>50.34</td>\n",
              "      <td>0</td>\n",
              "      <td>1</td>\n",
              "      <td>0</td>\n",
              "      <td>7</td>\n",
              "      <td>0</td>\n",
              "    </tr>\n",
              "    <tr>\n",
              "      <th>2</th>\n",
              "      <td>year 2013</td>\n",
              "      <td>11</td>\n",
              "      <td>21</td>\n",
              "      <td>2</td>\n",
              "      <td>711</td>\n",
              "      <td>138*</td>\n",
              "      <td>37.42</td>\n",
              "      <td>1550</td>\n",
              "      <td>45.87</td>\n",
              "      <td>2</td>\n",
              "      <td>3</td>\n",
              "      <td>1</td>\n",
              "      <td>74</td>\n",
              "      <td>10</td>\n",
              "    </tr>\n",
              "    <tr>\n",
              "      <th>3</th>\n",
              "      <td>year 2014</td>\n",
              "      <td>9</td>\n",
              "      <td>17</td>\n",
              "      <td>3</td>\n",
              "      <td>1146</td>\n",
              "      <td>192</td>\n",
              "      <td>81.85</td>\n",
              "      <td>1913</td>\n",
              "      <td>59.90</td>\n",
              "      <td>5</td>\n",
              "      <td>4</td>\n",
              "      <td>2</td>\n",
              "      <td>131</td>\n",
              "      <td>8</td>\n",
              "    </tr>\n",
              "    <tr>\n",
              "      <th>4</th>\n",
              "      <td>year 2015</td>\n",
              "      <td>13</td>\n",
              "      <td>24</td>\n",
              "      <td>4</td>\n",
              "      <td>1474</td>\n",
              "      <td>215</td>\n",
              "      <td>73.70</td>\n",
              "      <td>2374</td>\n",
              "      <td>62.08</td>\n",
              "      <td>6</td>\n",
              "      <td>5</td>\n",
              "      <td>0</td>\n",
              "      <td>167</td>\n",
              "      <td>7</td>\n",
              "    </tr>\n",
              "  </tbody>\n",
              "</table>\n",
              "</div>\n",
              "      <button class=\"colab-df-convert\" onclick=\"convertToInteractive('df-0535be6f-d5af-4761-944f-9eeb1344a6bd')\"\n",
              "              title=\"Convert this dataframe to an interactive table.\"\n",
              "              style=\"display:none;\">\n",
              "        \n",
              "  <svg xmlns=\"http://www.w3.org/2000/svg\" height=\"24px\"viewBox=\"0 0 24 24\"\n",
              "       width=\"24px\">\n",
              "    <path d=\"M0 0h24v24H0V0z\" fill=\"none\"/>\n",
              "    <path d=\"M18.56 5.44l.94 2.06.94-2.06 2.06-.94-2.06-.94-.94-2.06-.94 2.06-2.06.94zm-11 1L8.5 8.5l.94-2.06 2.06-.94-2.06-.94L8.5 2.5l-.94 2.06-2.06.94zm10 10l.94 2.06.94-2.06 2.06-.94-2.06-.94-.94-2.06-.94 2.06-2.06.94z\"/><path d=\"M17.41 7.96l-1.37-1.37c-.4-.4-.92-.59-1.43-.59-.52 0-1.04.2-1.43.59L10.3 9.45l-7.72 7.72c-.78.78-.78 2.05 0 2.83L4 21.41c.39.39.9.59 1.41.59.51 0 1.02-.2 1.41-.59l7.78-7.78 2.81-2.81c.8-.78.8-2.07 0-2.86zM5.41 20L4 18.59l7.72-7.72 1.47 1.35L5.41 20z\"/>\n",
              "  </svg>\n",
              "      </button>\n",
              "      \n",
              "  <style>\n",
              "    .colab-df-container {\n",
              "      display:flex;\n",
              "      flex-wrap:wrap;\n",
              "      gap: 12px;\n",
              "    }\n",
              "\n",
              "    .colab-df-convert {\n",
              "      background-color: #E8F0FE;\n",
              "      border: none;\n",
              "      border-radius: 50%;\n",
              "      cursor: pointer;\n",
              "      display: none;\n",
              "      fill: #1967D2;\n",
              "      height: 32px;\n",
              "      padding: 0 0 0 0;\n",
              "      width: 32px;\n",
              "    }\n",
              "\n",
              "    .colab-df-convert:hover {\n",
              "      background-color: #E2EBFA;\n",
              "      box-shadow: 0px 1px 2px rgba(60, 64, 67, 0.3), 0px 1px 3px 1px rgba(60, 64, 67, 0.15);\n",
              "      fill: #174EA6;\n",
              "    }\n",
              "\n",
              "    [theme=dark] .colab-df-convert {\n",
              "      background-color: #3B4455;\n",
              "      fill: #D2E3FC;\n",
              "    }\n",
              "\n",
              "    [theme=dark] .colab-df-convert:hover {\n",
              "      background-color: #434B5C;\n",
              "      box-shadow: 0px 1px 3px 1px rgba(0, 0, 0, 0.15);\n",
              "      filter: drop-shadow(0px 1px 2px rgba(0, 0, 0, 0.3));\n",
              "      fill: #FFFFFF;\n",
              "    }\n",
              "  </style>\n",
              "\n",
              "      <script>\n",
              "        const buttonEl =\n",
              "          document.querySelector('#df-0535be6f-d5af-4761-944f-9eeb1344a6bd button.colab-df-convert');\n",
              "        buttonEl.style.display =\n",
              "          google.colab.kernel.accessAllowed ? 'block' : 'none';\n",
              "\n",
              "        async function convertToInteractive(key) {\n",
              "          const element = document.querySelector('#df-0535be6f-d5af-4761-944f-9eeb1344a6bd');\n",
              "          const dataTable =\n",
              "            await google.colab.kernel.invokeFunction('convertToInteractive',\n",
              "                                                     [key], {});\n",
              "          if (!dataTable) return;\n",
              "\n",
              "          const docLinkHtml = 'Like what you see? Visit the ' +\n",
              "            '<a target=\"_blank\" href=https://colab.research.google.com/notebooks/data_table.ipynb>data table notebook</a>'\n",
              "            + ' to learn more about interactive tables.';\n",
              "          element.innerHTML = '';\n",
              "          dataTable['output_type'] = 'display_data';\n",
              "          await google.colab.output.renderOutput(dataTable, element);\n",
              "          const docLink = document.createElement('div');\n",
              "          docLink.innerHTML = docLinkHtml;\n",
              "          element.appendChild(docLink);\n",
              "        }\n",
              "      </script>\n",
              "    </div>\n",
              "  </div>\n",
              "  "
            ]
          },
          "metadata": {},
          "execution_count": 45
        }
      ]
    },
    {
      "cell_type": "code",
      "source": [
        "yw.groupby('Runs')['Column1'].value_counts().sort_values(ascending = False)"
      ],
      "metadata": {
        "colab": {
          "base_uri": "https://localhost:8080/"
        },
        "id": "3-zyw_0CO9l7",
        "outputId": "a2c16560-2d42-43e4-8b40-763d996e74ca"
      },
      "execution_count": 46,
      "outputs": [
        {
          "output_type": "execute_result",
          "data": {
            "text/plain": [
              "Runs  Column1  \n",
              "72    year 2011    1\n",
              "73    year 2020    1\n",
              "104   year 2023    1\n",
              "187   year 2010    1\n",
              "225   year 2018    1\n",
              "430   year 2021    1\n",
              "711   year 2013    1\n",
              "876   year 2022    1\n",
              "965   year 2019    1\n",
              "1079  year 2016    1\n",
              "1146  year 2014    1\n",
              "1305  year 2017    1\n",
              "1474  year 2015    1\n",
              "Name: Column1, dtype: int64"
            ]
          },
          "metadata": {},
          "execution_count": 46
        }
      ]
    },
    {
      "cell_type": "markdown",
      "source": [
        "**He had scored the most runs in 2015**"
      ],
      "metadata": {
        "id": "d_NYMDr2Qfsy"
      }
    },
    {
      "cell_type": "code",
      "source": [
        "fig, ax = plt.subplots(figsize=(20, 13))\n",
        "sns.barplot(x = yw['Column1'], y=yw['Runs'], hue = yw['100s'],dodge = False, palette = 'bright')\n",
        "\n",
        "plt.title('Runs Scored every year', weight='bold').set_fontsize('15')\n",
        "plt.gcf().set_size_inches(18, 10)\n",
        "plt.show()"
      ],
      "metadata": {
        "colab": {
          "base_uri": "https://localhost:8080/",
          "height": 629
        },
        "id": "bG79KaT9PopD",
        "outputId": "e95225fd-384d-4224-eef0-c3a56d94d41a"
      },
      "execution_count": 55,
      "outputs": [
        {
          "output_type": "display_data",
          "data": {
            "text/plain": [
              "<Figure size 1296x720 with 1 Axes>"
            ],
            "image/png": "[encoded data removed]"
          },
          "metadata": {}
        }
      ]
    },
    {
      "cell_type": "markdown",
      "source": [
        "# **Highest Scores**"
      ],
      "metadata": {
        "id": "pgO7tnKGR6DA"
      }
    },
    {
      "cell_type": "code",
      "source": [
        "hs = pd.read_csv('/content/smith highest scores_.csv')\n",
        "hs.head(6)"
      ],
      "metadata": {
        "colab": {
          "base_uri": "https://localhost:8080/",
          "height": 235
        },
        "id": "lIkA-Fb3R-Qh",
        "outputId": "5e022ea6-537f-4f8c-9934-f8b9044ca8d3"
      },
      "execution_count": 56,
      "outputs": [
        {
          "output_type": "execute_result",
          "data": {
            "text/plain": [
              "   Runs Mins   BF  4s 6s     SR Pos Dismissal  Inns  Column1     Opposition  \\\n",
              "0   239  578  399  30  1  59.89   4       lbw     2      NaN      v England   \n",
              "1   215  503  346  25  1  62.13   3       lbw     1      NaN      v England   \n",
              "2   211  513  319  24  2  66.14   4    caught     1      NaN      v England   \n",
              "3  200*  419  311  16  0  64.30   4   not out     1      NaN  v West Indies   \n",
              "4   199  513  361  21  2  55.12   3       lbw     1      NaN  v West Indies   \n",
              "5   192  433  305  15  2  62.95   4    bowled     1      NaN        v India   \n",
              "\n",
              "       Ground  Start Date            2  \n",
              "0       Perth  14-12-2017  Test # 2288  \n",
              "1      Lord's  16-07-2015  Test # 2171  \n",
              "2  Manchester  04-09-2019  Test # 2360  \n",
              "3       Perth  30-11-2022  Test # 2477  \n",
              "4    Kingston  11-06-2015  Test # 2166  \n",
              "5   Melbourne  26-12-2014  Test # 2152  "
            ],
            "text/html": [
              "\n",
              "  <div id=\"df-baacc42c-2890-4b68-927f-781321766eb2\">\n",
              "    <div class=\"colab-df-container\">\n",
              "      <div>\n",
              "<style scoped>\n",
              "    .dataframe tbody tr th:only-of-type {\n",
              "        vertical-align: middle;\n",
              "    }\n",
              "\n",
              "    .dataframe tbody tr th {\n",
              "        vertical-align: top;\n",
              "    }\n",
              "\n",
              "    .dataframe thead th {\n",
              "        text-align: right;\n",
              "    }\n",
              "</style>\n",
              "<table border=\"1\" class=\"dataframe\">\n",
              "  <thead>\n",
              "    <tr style=\"text-align: right;\">\n",
              "      <th></th>\n",
              "      <th>Runs</th>\n",
              "      <th>Mins</th>\n",
              "      <th>BF</th>\n",
              "      <th>4s</th>\n",
              "      <th>6s</th>\n",
              "      <th>SR</th>\n",
              "      <th>Pos</th>\n",
              "      <th>Dismissal</th>\n",
              "      <th>Inns</th>\n",
              "      <th>Column1</th>\n",
              "      <th>Opposition</th>\n",
              "      <th>Ground</th>\n",
              "      <th>Start Date</th>\n",
              "      <th>2</th>\n",
              "    </tr>\n",
              "  </thead>\n",
              "  <tbody>\n",
              "    <tr>\n",
              "      <th>0</th>\n",
              "      <td>239</td>\n",
              "      <td>578</td>\n",
              "      <td>399</td>\n",
              "      <td>30</td>\n",
              "      <td>1</td>\n",
              "      <td>59.89</td>\n",
              "      <td>4</td>\n",
              "      <td>lbw</td>\n",
              "      <td>2</td>\n",
              "      <td>NaN</td>\n",
              "      <td>v England</td>\n",
              "      <td>Perth</td>\n",
              "      <td>14-12-2017</td>\n",
              "      <td>Test # 2288</td>\n",
              "    </tr>\n",
              "    <tr>\n",
              "      <th>1</th>\n",
              "      <td>215</td>\n",
              "      <td>503</td>\n",
              "      <td>346</td>\n",
              "      <td>25</td>\n",
              "      <td>1</td>\n",
              "      <td>62.13</td>\n",
              "      <td>3</td>\n",
              "      <td>lbw</td>\n",
              "      <td>1</td>\n",
              "      <td>NaN</td>\n",
              "      <td>v England</td>\n",
              "      <td>Lord's</td>\n",
              "      <td>16-07-2015</td>\n",
              "      <td>Test # 2171</td>\n",
              "    </tr>\n",
              "    <tr>\n",
              "      <th>2</th>\n",
              "      <td>211</td>\n",
              "      <td>513</td>\n",
              "      <td>319</td>\n",
              "      <td>24</td>\n",
              "      <td>2</td>\n",
              "      <td>66.14</td>\n",
              "      <td>4</td>\n",
              "      <td>caught</td>\n",
              "      <td>1</td>\n",
              "      <td>NaN</td>\n",
              "      <td>v England</td>\n",
              "      <td>Manchester</td>\n",
              "      <td>04-09-2019</td>\n",
              "      <td>Test # 2360</td>\n",
              "    </tr>\n",
              "    <tr>\n",
              "      <th>3</th>\n",
              "      <td>200*</td>\n",
              "      <td>419</td>\n",
              "      <td>311</td>\n",
              "      <td>16</td>\n",
              "      <td>0</td>\n",
              "      <td>64.30</td>\n",
              "      <td>4</td>\n",
              "      <td>not out</td>\n",
              "      <td>1</td>\n",
              "      <td>NaN</td>\n",
              "      <td>v West Indies</td>\n",
              "      <td>Perth</td>\n",
              "      <td>30-11-2022</td>\n",
              "      <td>Test # 2477</td>\n",
              "    </tr>\n",
              "    <tr>\n",
              "      <th>4</th>\n",
              "      <td>199</td>\n",
              "      <td>513</td>\n",
              "      <td>361</td>\n",
              "      <td>21</td>\n",
              "      <td>2</td>\n",
              "      <td>55.12</td>\n",
              "      <td>3</td>\n",
              "      <td>lbw</td>\n",
              "      <td>1</td>\n",
              "      <td>NaN</td>\n",
              "      <td>v West Indies</td>\n",
              "      <td>Kingston</td>\n",
              "      <td>11-06-2015</td>\n",
              "      <td>Test # 2166</td>\n",
              "    </tr>\n",
              "    <tr>\n",
              "      <th>5</th>\n",
              "      <td>192</td>\n",
              "      <td>433</td>\n",
              "      <td>305</td>\n",
              "      <td>15</td>\n",
              "      <td>2</td>\n",
              "      <td>62.95</td>\n",
              "      <td>4</td>\n",
              "      <td>bowled</td>\n",
              "      <td>1</td>\n",
              "      <td>NaN</td>\n",
              "      <td>v India</td>\n",
              "      <td>Melbourne</td>\n",
              "      <td>26-12-2014</td>\n",
              "      <td>Test # 2152</td>\n",
              "    </tr>\n",
              "  </tbody>\n",
              "</table>\n",
              "</div>\n",
              "      <button class=\"colab-df-convert\" onclick=\"convertToInteractive('df-baacc42c-2890-4b68-927f-781321766eb2')\"\n",
              "              title=\"Convert this dataframe to an interactive table.\"\n",
              "              style=\"display:none;\">\n",
              "        \n",
              "  <svg xmlns=\"http://www.w3.org/2000/svg\" height=\"24px\"viewBox=\"0 0 24 24\"\n",
              "       width=\"24px\">\n",
              "    <path d=\"M0 0h24v24H0V0z\" fill=\"none\"/>\n",
              "    <path d=\"M18.56 5.44l.94 2.06.94-2.06 2.06-.94-2.06-.94-.94-2.06-.94 2.06-2.06.94zm-11 1L8.5 8.5l.94-2.06 2.06-.94-2.06-.94L8.5 2.5l-.94 2.06-2.06.94zm10 10l.94 2.06.94-2.06 2.06-.94-2.06-.94-.94-2.06-.94 2.06-2.06.94z\"/><path d=\"M17.41 7.96l-1.37-1.37c-.4-.4-.92-.59-1.43-.59-.52 0-1.04.2-1.43.59L10.3 9.45l-7.72 7.72c-.78.78-.78 2.05 0 2.83L4 21.41c.39.39.9.59 1.41.59.51 0 1.02-.2 1.41-.59l7.78-7.78 2.81-2.81c.8-.78.8-2.07 0-2.86zM5.41 20L4 18.59l7.72-7.72 1.47 1.35L5.41 20z\"/>\n",
              "  </svg>\n",
              "      </button>\n",
              "      \n",
              "  <style>\n",
              "    .colab-df-container {\n",
              "      display:flex;\n",
              "      flex-wrap:wrap;\n",
              "      gap: 12px;\n",
              "    }\n",
              "\n",
              "    .colab-df-convert {\n",
              "      background-color: #E8F0FE;\n",
              "      border: none;\n",
              "      border-radius: 50%;\n",
              "      cursor: pointer;\n",
              "      display: none;\n",
              "      fill: #1967D2;\n",
              "      height: 32px;\n",
              "      padding: 0 0 0 0;\n",
              "      width: 32px;\n",
              "    }\n",
              "\n",
              "    .colab-df-convert:hover {\n",
              "      background-color: #E2EBFA;\n",
              "      box-shadow: 0px 1px 2px rgba(60, 64, 67, 0.3), 0px 1px 3px 1px rgba(60, 64, 67, 0.15);\n",
              "      fill: #174EA6;\n",
              "    }\n",
              "\n",
              "    [theme=dark] .colab-df-convert {\n",
              "      background-color: #3B4455;\n",
              "      fill: #D2E3FC;\n",
              "    }\n",
              "\n",
              "    [theme=dark] .colab-df-convert:hover {\n",
              "      background-color: #434B5C;\n",
              "      box-shadow: 0px 1px 3px 1px rgba(0, 0, 0, 0.15);\n",
              "      filter: drop-shadow(0px 1px 2px rgba(0, 0, 0, 0.3));\n",
              "      fill: #FFFFFF;\n",
              "    }\n",
              "  </style>\n",
              "\n",
              "      <script>\n",
              "        const buttonEl =\n",
              "          document.querySelector('#df-baacc42c-2890-4b68-927f-781321766eb2 button.colab-df-convert');\n",
              "        buttonEl.style.display =\n",
              "          google.colab.kernel.accessAllowed ? 'block' : 'none';\n",
              "\n",
              "        async function convertToInteractive(key) {\n",
              "          const element = document.querySelector('#df-baacc42c-2890-4b68-927f-781321766eb2');\n",
              "          const dataTable =\n",
              "            await google.colab.kernel.invokeFunction('convertToInteractive',\n",
              "                                                     [key], {});\n",
              "          if (!dataTable) return;\n",
              "\n",
              "          const docLinkHtml = 'Like what you see? Visit the ' +\n",
              "            '<a target=\"_blank\" href=https://colab.research.google.com/notebooks/data_table.ipynb>data table notebook</a>'\n",
              "            + ' to learn more about interactive tables.';\n",
              "          element.innerHTML = '';\n",
              "          dataTable['output_type'] = 'display_data';\n",
              "          await google.colab.output.renderOutput(dataTable, element);\n",
              "          const docLink = document.createElement('div');\n",
              "          docLink.innerHTML = docLinkHtml;\n",
              "          element.appendChild(docLink);\n",
              "        }\n",
              "      </script>\n",
              "    </div>\n",
              "  </div>\n",
              "  "
            ]
          },
          "metadata": {},
          "execution_count": 56
        }
      ]
    },
    {
      "cell_type": "code",
      "source": [
        "top5 = hs.head(5)\n",
        "top5"
      ],
      "metadata": {
        "colab": {
          "base_uri": "https://localhost:8080/",
          "height": 204
        },
        "id": "zfiSOxj2SFsJ",
        "outputId": "ec9d1c2b-dda6-4095-bdbb-3e67f35ce67c"
      },
      "execution_count": 64,
      "outputs": [
        {
          "output_type": "execute_result",
          "data": {
            "text/plain": [
              "   Runs Mins   BF  4s 6s     SR Pos Dismissal  Inns  Column1     Opposition  \\\n",
              "0   239  578  399  30  1  59.89   4       lbw     2      NaN      v England   \n",
              "1   215  503  346  25  1  62.13   3       lbw     1      NaN      v England   \n",
              "2   211  513  319  24  2  66.14   4    caught     1      NaN      v England   \n",
              "3  200*  419  311  16  0  64.30   4   not out     1      NaN  v West Indies   \n",
              "4   199  513  361  21  2  55.12   3       lbw     1      NaN  v West Indies   \n",
              "\n",
              "       Ground  Start Date            2 Runss  \n",
              "0       Perth  14-12-2017  Test # 2288   239  \n",
              "1      Lord's  16-07-2015  Test # 2171   215  \n",
              "2  Manchester  04-09-2019  Test # 2360   211  \n",
              "3       Perth  30-11-2022  Test # 2477   200  \n",
              "4    Kingston  11-06-2015  Test # 2166   199  "
            ],
            "text/html": [
              "\n",
              "  <div id=\"df-cb346f18-d8ed-441f-a50b-03da56f17841\">\n",
              "    <div class=\"colab-df-container\">\n",
              "      <div>\n",
              "<style scoped>\n",
              "    .dataframe tbody tr th:only-of-type {\n",
              "        vertical-align: middle;\n",
              "    }\n",
              "\n",
              "    .dataframe tbody tr th {\n",
              "        vertical-align: top;\n",
              "    }\n",
              "\n",
              "    .dataframe thead th {\n",
              "        text-align: right;\n",
              "    }\n",
              "</style>\n",
              "<table border=\"1\" class=\"dataframe\">\n",
              "  <thead>\n",
              "    <tr style=\"text-align: right;\">\n",
              "      <th></th>\n",
              "      <th>Runs</th>\n",
              "      <th>Mins</th>\n",
              "      <th>BF</th>\n",
              "      <th>4s</th>\n",
              "      <th>6s</th>\n",
              "      <th>SR</th>\n",
              "      <th>Pos</th>\n",
              "      <th>Dismissal</th>\n",
              "      <th>Inns</th>\n",
              "      <th>Column1</th>\n",
              "      <th>Opposition</th>\n",
              "      <th>Ground</th>\n",
              "      <th>Start Date</th>\n",
              "      <th>2</th>\n",
              "      <th>Runss</th>\n",
              "    </tr>\n",
              "  </thead>\n",
              "  <tbody>\n",
              "    <tr>\n",
              "      <th>0</th>\n",
              "      <td>239</td>\n",
              "      <td>578</td>\n",
              "      <td>399</td>\n",
              "      <td>30</td>\n",
              "      <td>1</td>\n",
              "      <td>59.89</td>\n",
              "      <td>4</td>\n",
              "      <td>lbw</td>\n",
              "      <td>2</td>\n",
              "      <td>NaN</td>\n",
              "      <td>v England</td>\n",
              "      <td>Perth</td>\n",
              "      <td>14-12-2017</td>\n",
              "      <td>Test # 2288</td>\n",
              "      <td>239</td>\n",
              "    </tr>\n",
              "    <tr>\n",
              "      <th>1</th>\n",
              "      <td>215</td>\n",
              "      <td>503</td>\n",
              "      <td>346</td>\n",
              "      <td>25</td>\n",
              "      <td>1</td>\n",
              "      <td>62.13</td>\n",
              "      <td>3</td>\n",
              "      <td>lbw</td>\n",
              "      <td>1</td>\n",
              "      <td>NaN</td>\n",
              "      <td>v England</td>\n",
              "      <td>Lord's</td>\n",
              "      <td>16-07-2015</td>\n",
              "      <td>Test # 2171</td>\n",
              "      <td>215</td>\n",
              "    </tr>\n",
              "    <tr>\n",
              "      <th>2</th>\n",
              "      <td>211</td>\n",
              "      <td>513</td>\n",
              "      <td>319</td>\n",
              "      <td>24</td>\n",
              "      <td>2</td>\n",
              "      <td>66.14</td>\n",
              "      <td>4</td>\n",
              "      <td>caught</td>\n",
              "      <td>1</td>\n",
              "      <td>NaN</td>\n",
              "      <td>v England</td>\n",
              "      <td>Manchester</td>\n",
              "      <td>04-09-2019</td>\n",
              "      <td>Test # 2360</td>\n",
              "      <td>211</td>\n",
              "    </tr>\n",
              "    <tr>\n",
              "      <th>3</th>\n",
              "      <td>200*</td>\n",
              "      <td>419</td>\n",
              "      <td>311</td>\n",
              "      <td>16</td>\n",
              "      <td>0</td>\n",
              "      <td>64.30</td>\n",
              "      <td>4</td>\n",
              "      <td>not out</td>\n",
              "      <td>1</td>\n",
              "      <td>NaN</td>\n",
              "      <td>v West Indies</td>\n",
              "      <td>Perth</td>\n",
              "      <td>30-11-2022</td>\n",
              "      <td>Test # 2477</td>\n",
              "      <td>200</td>\n",
              "    </tr>\n",
              "    <tr>\n",
              "      <th>4</th>\n",
              "      <td>199</td>\n",
              "      <td>513</td>\n",
              "      <td>361</td>\n",
              "      <td>21</td>\n",
              "      <td>2</td>\n",
              "      <td>55.12</td>\n",
              "      <td>3</td>\n",
              "      <td>lbw</td>\n",
              "      <td>1</td>\n",
              "      <td>NaN</td>\n",
              "      <td>v West Indies</td>\n",
              "      <td>Kingston</td>\n",
              "      <td>11-06-2015</td>\n",
              "      <td>Test # 2166</td>\n",
              "      <td>199</td>\n",
              "    </tr>\n",
              "  </tbody>\n",
              "</table>\n",
              "</div>\n",
              "      <button class=\"colab-df-convert\" onclick=\"convertToInteractive('df-cb346f18-d8ed-441f-a50b-03da56f17841')\"\n",
              "              title=\"Convert this dataframe to an interactive table.\"\n",
              "              style=\"display:none;\">\n",
              "        \n",
              "  <svg xmlns=\"http://www.w3.org/2000/svg\" height=\"24px\"viewBox=\"0 0 24 24\"\n",
              "       width=\"24px\">\n",
              "    <path d=\"M0 0h24v24H0V0z\" fill=\"none\"/>\n",
              "    <path d=\"M18.56 5.44l.94 2.06.94-2.06 2.06-.94-2.06-.94-.94-2.06-.94 2.06-2.06.94zm-11 1L8.5 8.5l.94-2.06 2.06-.94-2.06-.94L8.5 2.5l-.94 2.06-2.06.94zm10 10l.94 2.06.94-2.06 2.06-.94-2.06-.94-.94-2.06-.94 2.06-2.06.94z\"/><path d=\"M17.41 7.96l-1.37-1.37c-.4-.4-.92-.59-1.43-.59-.52 0-1.04.2-1.43.59L10.3 9.45l-7.72 7.72c-.78.78-.78 2.05 0 2.83L4 21.41c.39.39.9.59 1.41.59.51 0 1.02-.2 1.41-.59l7.78-7.78 2.81-2.81c.8-.78.8-2.07 0-2.86zM5.41 20L4 18.59l7.72-7.72 1.47 1.35L5.41 20z\"/>\n",
              "  </svg>\n",
              "      </button>\n",
              "      \n",
              "  <style>\n",
              "    .colab-df-container {\n",
              "      display:flex;\n",
              "      flex-wrap:wrap;\n",
              "      gap: 12px;\n",
              "    }\n",
              "\n",
              "    .colab-df-convert {\n",
              "      background-color: #E8F0FE;\n",
              "      border: none;\n",
              "      border-radius: 50%;\n",
              "      cursor: pointer;\n",
              "      display: none;\n",
              "      fill: #1967D2;\n",
              "      height: 32px;\n",
              "      padding: 0 0 0 0;\n",
              "      width: 32px;\n",
              "    }\n",
              "\n",
              "    .colab-df-convert:hover {\n",
              "      background-color: #E2EBFA;\n",
              "      box-shadow: 0px 1px 2px rgba(60, 64, 67, 0.3), 0px 1px 3px 1px rgba(60, 64, 67, 0.15);\n",
              "      fill: #174EA6;\n",
              "    }\n",
              "\n",
              "    [theme=dark] .colab-df-convert {\n",
              "      background-color: #3B4455;\n",
              "      fill: #D2E3FC;\n",
              "    }\n",
              "\n",
              "    [theme=dark] .colab-df-convert:hover {\n",
              "      background-color: #434B5C;\n",
              "      box-shadow: 0px 1px 3px 1px rgba(0, 0, 0, 0.15);\n",
              "      filter: drop-shadow(0px 1px 2px rgba(0, 0, 0, 0.3));\n",
              "      fill: #FFFFFF;\n",
              "    }\n",
              "  </style>\n",
              "\n",
              "      <script>\n",
              "        const buttonEl =\n",
              "          document.querySelector('#df-cb346f18-d8ed-441f-a50b-03da56f17841 button.colab-df-convert');\n",
              "        buttonEl.style.display =\n",
              "          google.colab.kernel.accessAllowed ? 'block' : 'none';\n",
              "\n",
              "        async function convertToInteractive(key) {\n",
              "          const element = document.querySelector('#df-cb346f18-d8ed-441f-a50b-03da56f17841');\n",
              "          const dataTable =\n",
              "            await google.colab.kernel.invokeFunction('convertToInteractive',\n",
              "                                                     [key], {});\n",
              "          if (!dataTable) return;\n",
              "\n",
              "          const docLinkHtml = 'Like what you see? Visit the ' +\n",
              "            '<a target=\"_blank\" href=https://colab.research.google.com/notebooks/data_table.ipynb>data table notebook</a>'\n",
              "            + ' to learn more about interactive tables.';\n",
              "          element.innerHTML = '';\n",
              "          dataTable['output_type'] = 'display_data';\n",
              "          await google.colab.output.renderOutput(dataTable, element);\n",
              "          const docLink = document.createElement('div');\n",
              "          docLink.innerHTML = docLinkHtml;\n",
              "          element.appendChild(docLink);\n",
              "        }\n",
              "      </script>\n",
              "    </div>\n",
              "  </div>\n",
              "  "
            ]
          },
          "metadata": {},
          "execution_count": 64
        }
      ]
    },
    {
      "cell_type": "code",
      "source": [
        "hs['Runss'] = hs['Runs'].str[0:3]"
      ],
      "metadata": {
        "id": "EabWljHDvUYA"
      },
      "execution_count": 58,
      "outputs": []
    },
    {
      "cell_type": "code",
      "source": [
        "top5['Runss'] = top5['Runss'].astype('int32')"
      ],
      "metadata": {
        "colab": {
          "base_uri": "https://localhost:8080/"
        },
        "id": "D30AdZkqxOsl",
        "outputId": "d447cf19-2af3-4651-88cd-21a9fc85a089"
      },
      "execution_count": 65,
      "outputs": [
        {
          "output_type": "stream",
          "name": "stderr",
          "text": [
            "<ipython-input-65-42bf8575c5b1>:1: SettingWithCopyWarning: \n",
            "A value is trying to be set on a copy of a slice from a DataFrame.\n",
            "Try using .loc[row_indexer,col_indexer] = value instead\n",
            "\n",
            "See the caveats in the documentation: https://pandas.pydata.org/pandas-docs/stable/user_guide/indexing.html#returning-a-view-versus-a-copy\n",
            "  top5['Runss'] = top5['Runss'].astype('int32')\n"
          ]
        }
      ]
    },
    {
      "cell_type": "code",
      "source": [
        "best = [1, 2, 3, 4, 5]"
      ],
      "metadata": {
        "id": "u0Wc-wMCy8MH"
      },
      "execution_count": 66,
      "outputs": []
    },
    {
      "cell_type": "code",
      "source": [
        "fig, ax = plt.subplots(figsize=(13, 11))\n",
        "sns.barplot(x = best, y=top5['Runss'], hue = top5['Ground'], dodge = False, palette = 'bright' )\n",
        "plt.title('Top 5 Highest Scores of Steve Smith', weight='bold').set_fontsize('18')\n",
        "ax.set(xlabel='Top 5 scores', ylabel='Runs')\n",
        "plt.show()"
      ],
      "metadata": {
        "colab": {
          "base_uri": "https://localhost:8080/",
          "height": 685
        },
        "id": "mA53tsyTzIsf",
        "outputId": "7b75119b-14b1-4b65-bc84-fd6a17b99024"
      },
      "execution_count": 76,
      "outputs": [
        {
          "output_type": "display_data",
          "data": {
            "text/plain": [
              "<Figure size 936x792 with 1 Axes>"
            ],
            "image/png": "[encoded data removed]"
          },
          "metadata": {}
        }
      ]
    },
    {
      "cell_type": "markdown",
      "source": [
        "# **Position Wise**"
      ],
      "metadata": {
        "id": "iLTIWMMcVUo0"
      }
    },
    {
      "cell_type": "code",
      "source": [
        "psw = pd.read_csv('/content/smith batting position wise_.csv')\n",
        "psw"
      ],
      "metadata": {
        "colab": {
          "base_uri": "https://localhost:8080/",
          "height": 266
        },
        "id": "INevMuv3VXJW",
        "outputId": "cc219492-4022-4d89-c7d9-b2570633436c"
      },
      "execution_count": 77,
      "outputs": [
        {
          "output_type": "execute_result",
          "data": {
            "text/plain": [
              "        Column1       Span  Mat  Inns  NO  Runs    HS    Avg    BF     SR  \\\n",
              "0  3rd position  2015-2017   17    29   3  1744   215  67.07  3025  57.65   \n",
              "1  4th position  2013-2023   54    86  11  5099   239  67.98  9402  54.23   \n",
              "2  5th position  2013-2021   19    26   4  1258  162*  57.18  2419  52.00   \n",
              "3  6th position  2010-2014   11    14   1   325   100  25.00   708  45.90   \n",
              "4  7th position  2011-2014    2     3   1   121   54*  60.50   215  56.27   \n",
              "5  8th position  2010-2010    2     3   0    88    77  29.33   115  76.52   \n",
              "6  9th position  2010-2010    1     1   0    12    12  12.00    17  70.58   \n",
              "\n",
              "   100s  50s  0s   4s  6s  \n",
              "0     8    5   0  200   8  \n",
              "1    17   23   5  538  25  \n",
              "2     4    6   1  147  12  \n",
              "3     1    1   2   30   2  \n",
              "4     0    1   0   15   0  \n",
              "5     0    1   0   11   2  \n",
              "6     0    0   0    1   0  "
            ],
            "text/html": [
              "\n",
              "  <div id=\"df-bc1f7842-d96f-4905-aace-1d86bae9dbba\">\n",
              "    <div class=\"colab-df-container\">\n",
              "      <div>\n",
              "<style scoped>\n",
              "    .dataframe tbody tr th:only-of-type {\n",
              "        vertical-align: middle;\n",
              "    }\n",
              "\n",
              "    .dataframe tbody tr th {\n",
              "        vertical-align: top;\n",
              "    }\n",
              "\n",
              "    .dataframe thead th {\n",
              "        text-align: right;\n",
              "    }\n",
              "</style>\n",
              "<table border=\"1\" class=\"dataframe\">\n",
              "  <thead>\n",
              "    <tr style=\"text-align: right;\">\n",
              "      <th></th>\n",
              "      <th>Column1</th>\n",
              "      <th>Span</th>\n",
              "      <th>Mat</th>\n",
              "      <th>Inns</th>\n",
              "      <th>NO</th>\n",
              "      <th>Runs</th>\n",
              "      <th>HS</th>\n",
              "      <th>Avg</th>\n",
              "      <th>BF</th>\n",
              "      <th>SR</th>\n",
              "      <th>100s</th>\n",
              "      <th>50s</th>\n",
              "      <th>0s</th>\n",
              "      <th>4s</th>\n",
              "      <th>6s</th>\n",
              "    </tr>\n",
              "  </thead>\n",
              "  <tbody>\n",
              "    <tr>\n",
              "      <th>0</th>\n",
              "      <td>3rd position</td>\n",
              "      <td>2015-2017</td>\n",
              "      <td>17</td>\n",
              "      <td>29</td>\n",
              "      <td>3</td>\n",
              "      <td>1744</td>\n",
              "      <td>215</td>\n",
              "      <td>67.07</td>\n",
              "      <td>3025</td>\n",
              "      <td>57.65</td>\n",
              "      <td>8</td>\n",
              "      <td>5</td>\n",
              "      <td>0</td>\n",
              "      <td>200</td>\n",
              "      <td>8</td>\n",
              "    </tr>\n",
              "    <tr>\n",
              "      <th>1</th>\n",
              "      <td>4th position</td>\n",
              "      <td>2013-2023</td>\n",
              "      <td>54</td>\n",
              "      <td>86</td>\n",
              "      <td>11</td>\n",
              "      <td>5099</td>\n",
              "      <td>239</td>\n",
              "      <td>67.98</td>\n",
              "      <td>9402</td>\n",
              "      <td>54.23</td>\n",
              "      <td>17</td>\n",
              "      <td>23</td>\n",
              "      <td>5</td>\n",
              "      <td>538</td>\n",
              "      <td>25</td>\n",
              "    </tr>\n",
              "    <tr>\n",
              "      <th>2</th>\n",
              "      <td>5th position</td>\n",
              "      <td>2013-2021</td>\n",
              "      <td>19</td>\n",
              "      <td>26</td>\n",
              "      <td>4</td>\n",
              "      <td>1258</td>\n",
              "      <td>162*</td>\n",
              "      <td>57.18</td>\n",
              "      <td>2419</td>\n",
              "      <td>52.00</td>\n",
              "      <td>4</td>\n",
              "      <td>6</td>\n",
              "      <td>1</td>\n",
              "      <td>147</td>\n",
              "      <td>12</td>\n",
              "    </tr>\n",
              "    <tr>\n",
              "      <th>3</th>\n",
              "      <td>6th position</td>\n",
              "      <td>2010-2014</td>\n",
              "      <td>11</td>\n",
              "      <td>14</td>\n",
              "      <td>1</td>\n",
              "      <td>325</td>\n",
              "      <td>100</td>\n",
              "      <td>25.00</td>\n",
              "      <td>708</td>\n",
              "      <td>45.90</td>\n",
              "      <td>1</td>\n",
              "      <td>1</td>\n",
              "      <td>2</td>\n",
              "      <td>30</td>\n",
              "      <td>2</td>\n",
              "    </tr>\n",
              "    <tr>\n",
              "      <th>4</th>\n",
              "      <td>7th position</td>\n",
              "      <td>2011-2014</td>\n",
              "      <td>2</td>\n",
              "      <td>3</td>\n",
              "      <td>1</td>\n",
              "      <td>121</td>\n",
              "      <td>54*</td>\n",
              "      <td>60.50</td>\n",
              "      <td>215</td>\n",
              "      <td>56.27</td>\n",
              "      <td>0</td>\n",
              "      <td>1</td>\n",
              "      <td>0</td>\n",
              "      <td>15</td>\n",
              "      <td>0</td>\n",
              "    </tr>\n",
              "    <tr>\n",
              "      <th>5</th>\n",
              "      <td>8th position</td>\n",
              "      <td>2010-2010</td>\n",
              "      <td>2</td>\n",
              "      <td>3</td>\n",
              "      <td>0</td>\n",
              "      <td>88</td>\n",
              "      <td>77</td>\n",
              "      <td>29.33</td>\n",
              "      <td>115</td>\n",
              "      <td>76.52</td>\n",
              "      <td>0</td>\n",
              "      <td>1</td>\n",
              "      <td>0</td>\n",
              "      <td>11</td>\n",
              "      <td>2</td>\n",
              "    </tr>\n",
              "    <tr>\n",
              "      <th>6</th>\n",
              "      <td>9th position</td>\n",
              "      <td>2010-2010</td>\n",
              "      <td>1</td>\n",
              "      <td>1</td>\n",
              "      <td>0</td>\n",
              "      <td>12</td>\n",
              "      <td>12</td>\n",
              "      <td>12.00</td>\n",
              "      <td>17</td>\n",
              "      <td>70.58</td>\n",
              "      <td>0</td>\n",
              "      <td>0</td>\n",
              "      <td>0</td>\n",
              "      <td>1</td>\n",
              "      <td>0</td>\n",
              "    </tr>\n",
              "  </tbody>\n",
              "</table>\n",
              "</div>\n",
              "      <button class=\"colab-df-convert\" onclick=\"convertToInteractive('df-bc1f7842-d96f-4905-aace-1d86bae9dbba')\"\n",
              "              title=\"Convert this dataframe to an interactive table.\"\n",
              "              style=\"display:none;\">\n",
              "        \n",
              "  <svg xmlns=\"http://www.w3.org/2000/svg\" height=\"24px\"viewBox=\"0 0 24 24\"\n",
              "       width=\"24px\">\n",
              "    <path d=\"M0 0h24v24H0V0z\" fill=\"none\"/>\n",
              "    <path d=\"M18.56 5.44l.94 2.06.94-2.06 2.06-.94-2.06-.94-.94-2.06-.94 2.06-2.06.94zm-11 1L8.5 8.5l.94-2.06 2.06-.94-2.06-.94L8.5 2.5l-.94 2.06-2.06.94zm10 10l.94 2.06.94-2.06 2.06-.94-2.06-.94-.94-2.06-.94 2.06-2.06.94z\"/><path d=\"M17.41 7.96l-1.37-1.37c-.4-.4-.92-.59-1.43-.59-.52 0-1.04.2-1.43.59L10.3 9.45l-7.72 7.72c-.78.78-.78 2.05 0 2.83L4 21.41c.39.39.9.59 1.41.59.51 0 1.02-.2 1.41-.59l7.78-7.78 2.81-2.81c.8-.78.8-2.07 0-2.86zM5.41 20L4 18.59l7.72-7.72 1.47 1.35L5.41 20z\"/>\n",
              "  </svg>\n",
              "      </button>\n",
              "      \n",
              "  <style>\n",
              "    .colab-df-container {\n",
              "      display:flex;\n",
              "      flex-wrap:wrap;\n",
              "      gap: 12px;\n",
              "    }\n",
              "\n",
              "    .colab-df-convert {\n",
              "      background-color: #E8F0FE;\n",
              "      border: none;\n",
              "      border-radius: 50%;\n",
              "      cursor: pointer;\n",
              "      display: none;\n",
              "      fill: #1967D2;\n",
              "      height: 32px;\n",
              "      padding: 0 0 0 0;\n",
              "      width: 32px;\n",
              "    }\n",
              "\n",
              "    .colab-df-convert:hover {\n",
              "      background-color: #E2EBFA;\n",
              "      box-shadow: 0px 1px 2px rgba(60, 64, 67, 0.3), 0px 1px 3px 1px rgba(60, 64, 67, 0.15);\n",
              "      fill: #174EA6;\n",
              "    }\n",
              "\n",
              "    [theme=dark] .colab-df-convert {\n",
              "      background-color: #3B4455;\n",
              "      fill: #D2E3FC;\n",
              "    }\n",
              "\n",
              "    [theme=dark] .colab-df-convert:hover {\n",
              "      background-color: #434B5C;\n",
              "      box-shadow: 0px 1px 3px 1px rgba(0, 0, 0, 0.15);\n",
              "      filter: drop-shadow(0px 1px 2px rgba(0, 0, 0, 0.3));\n",
              "      fill: #FFFFFF;\n",
              "    }\n",
              "  </style>\n",
              "\n",
              "      <script>\n",
              "        const buttonEl =\n",
              "          document.querySelector('#df-bc1f7842-d96f-4905-aace-1d86bae9dbba button.colab-df-convert');\n",
              "        buttonEl.style.display =\n",
              "          google.colab.kernel.accessAllowed ? 'block' : 'none';\n",
              "\n",
              "        async function convertToInteractive(key) {\n",
              "          const element = document.querySelector('#df-bc1f7842-d96f-4905-aace-1d86bae9dbba');\n",
              "          const dataTable =\n",
              "            await google.colab.kernel.invokeFunction('convertToInteractive',\n",
              "                                                     [key], {});\n",
              "          if (!dataTable) return;\n",
              "\n",
              "          const docLinkHtml = 'Like what you see? Visit the ' +\n",
              "            '<a target=\"_blank\" href=https://colab.research.google.com/notebooks/data_table.ipynb>data table notebook</a>'\n",
              "            + ' to learn more about interactive tables.';\n",
              "          element.innerHTML = '';\n",
              "          dataTable['output_type'] = 'display_data';\n",
              "          await google.colab.output.renderOutput(dataTable, element);\n",
              "          const docLink = document.createElement('div');\n",
              "          docLink.innerHTML = docLinkHtml;\n",
              "          element.appendChild(docLink);\n",
              "        }\n",
              "      </script>\n",
              "    </div>\n",
              "  </div>\n",
              "  "
            ]
          },
          "metadata": {},
          "execution_count": 77
        }
      ]
    },
    {
      "cell_type": "code",
      "source": [
        "fig, ax = plt.subplots(figsize=(10, 5))\n",
        "sns.barplot(x = psw['Column1'], y=psw['Runs'], hue = psw['100s'], dodge=False, palette = 'bright' )\n",
        "plt.title('Position Wise', weight='bold').set_fontsize('15')\n",
        "plt.gcf().set_size_inches(10, 7)\n",
        "plt.show()"
      ],
      "metadata": {
        "colab": {
          "base_uri": "https://localhost:8080/",
          "height": 466
        },
        "id": "85kBMibRVezl",
        "outputId": "5743f4e6-b22d-40c9-cbd1-c87d0c1ef77a"
      },
      "execution_count": 80,
      "outputs": [
        {
          "output_type": "display_data",
          "data": {
            "text/plain": [
              "<Figure size 720x504 with 1 Axes>"
            ],
            "image/png": "[encoded data removed]"
          },
          "metadata": {}
        }
      ]
    },
    {
      "cell_type": "markdown",
      "source": [
        "**This clearly states that he was a beast at no 4 while batting**"
      ],
      "metadata": {
        "id": "539JuMcrVzTr"
      }
    },
    {
      "cell_type": "markdown",
      "source": [
        "# **Done by Syed Miran**"
      ],
      "metadata": {
        "id": "uN450aRoWKgy"
      }
    }
  ]
}